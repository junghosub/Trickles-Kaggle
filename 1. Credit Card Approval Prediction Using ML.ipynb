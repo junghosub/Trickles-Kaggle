{
 "cells": [
  {
   "cell_type": "markdown",
   "metadata": {},
   "source": [
    "# Credit Card Approval Prediction Using ML"
   ]
  },
  {
   "cell_type": "code",
   "execution_count": 1,
   "metadata": {},
   "outputs": [],
   "source": [
    "import warnings\n",
    "warnings.filterwarnings('ignore')\n",
    "import numpy as np\n",
    "import pandas as pd\n",
    "import matplotlib.pyplot as plt\n",
    "import seaborn as sns\n",
    "from imblearn.over_sampling import SMOTE\n",
    "import itertools\n",
    "\n",
    "from sklearn.model_selection import train_test_split\n",
    "from sklearn.metrics import roc_auc_score, confusion_matrix\n",
    "from sklearn.linear_model import LogisticRegression\n",
    "from sklearn.tree import DecisionTreeClassifier\n",
    "\n",
    "from xgboost import XGBClassifier\n",
    "from lightgbm import LGBMClassifier\n",
    "from sklearn.ensemble import RandomForestClassifier"
   ]
  },
  {
   "cell_type": "code",
   "execution_count": 2,
   "metadata": {},
   "outputs": [],
   "source": [
    "data = pd.read_csv('data/application_record.csv', encoding='utf-8')\n",
    "record = pd.read_csv('data/credit_record.csv', encoding = 'utf-8')"
   ]
  },
  {
   "cell_type": "markdown",
   "metadata": {},
   "source": [
    "## Feature Engineering"
   ]
  },
  {
   "cell_type": "code",
   "execution_count": 3,
   "metadata": {},
   "outputs": [],
   "source": [
    "begin_month = pd.DataFrame(record.groupby(['ID'])['MONTHS_BALANCE'].agg(min))\n",
    "begin_month = begin_month.rename(columns = {'MONTHS_BALANCE' : 'begin_month'})\n",
    "new_data = pd.merge(data, begin_month, how = 'left', on = 'ID')"
   ]
  },
  {
   "cell_type": "code",
   "execution_count": 4,
   "metadata": {},
   "outputs": [],
   "source": [
    "record['dep_value'] = None\n",
    "record['dep_value'][record['STATUS'] == '2'] = 'YES'\n",
    "record['dep_value'][record['STATUS'] == '3'] = 'YES'\n",
    "record['dep_value'][record['STATUS'] == '4'] = 'YES'\n",
    "record['dep_value'][record['STATUS'] == '5'] = 'YES'"
   ]
  },
  {
   "cell_type": "code",
   "execution_count": 5,
   "metadata": {},
   "outputs": [],
   "source": [
    "cpunt = record.groupby('ID').count()\n",
    "cpunt['dep_value'][cpunt['dep_value'] > 0] = 'Yes'\n",
    "cpunt['dep_value'][cpunt['dep_value'] == 0] = 'No'\n",
    "cpunt = cpunt[['dep_value']]\n",
    "\n",
    "new_data = pd.merge(new_data, cpunt, how = 'inner', on = 'ID')\n",
    "new_data['target'] = new_data['dep_value']\n",
    "new_data.loc[new_data['target'] == 'Yes', 'target'] = 1\n",
    "new_data.loc[new_data['target'] == 'No', 'target'] = 0"
   ]
  },
  {
   "cell_type": "code",
   "execution_count": 6,
   "metadata": {},
   "outputs": [
    {
     "name": "stdout",
     "output_type": "stream",
     "text": [
      "No     45318\n",
      "Yes      667\n",
      "Name: dep_value, dtype: int64\n"
     ]
    },
    {
     "data": {
      "text/plain": [
       "No     0.985495\n",
       "Yes    0.014505\n",
       "Name: dep_value, dtype: float64"
      ]
     },
     "execution_count": 6,
     "metadata": {},
     "output_type": "execute_result"
    }
   ],
   "source": [
    "print(cpunt['dep_value'].value_counts())\n",
    "cpunt['dep_value'].value_counts(normalize = True)"
   ]
  },
  {
   "cell_type": "markdown",
   "metadata": {},
   "source": [
    "<b> rename"
   ]
  },
  {
   "cell_type": "code",
   "execution_count": 7,
   "metadata": {},
   "outputs": [],
   "source": [
    "new_data.rename(columns={'CODE_GENDER':'Gender','FLAG_OWN_CAR':'Car','FLAG_OWN_REALTY':'Reality',\n",
    "                         'CNT_CHILDREN':'ChldNo','AMT_INCOME_TOTAL':'inc',\n",
    "                         'NAME_EDUCATION_TYPE':'edutp','NAME_FAMILY_STATUS':'famtp',\n",
    "                        'NAME_HOUSING_TYPE':'houtp','FLAG_EMAIL':'email',\n",
    "                         'NAME_INCOME_TYPE':'inctp','FLAG_WORK_PHONE':'wkphone',\n",
    "                         'FLAG_PHONE':'phone','CNT_FAM_MEMBERS':'famsize',\n",
    "                        'OCCUPATION_TYPE':'occyp'\n",
    "                        },inplace=True)"
   ]
  },
  {
   "cell_type": "code",
   "execution_count": 8,
   "metadata": {},
   "outputs": [],
   "source": [
    "new_data.dropna()\n",
    "new_data = new_data.mask(new_data == 'NULL').dropna()"
   ]
  },
  {
   "cell_type": "code",
   "execution_count": 9,
   "metadata": {},
   "outputs": [],
   "source": [
    "ivtable = pd.DataFrame(new_data.columns, columns = ['variable'])\n",
    "ivtable['IV'] = None\n",
    "namelist = ['FLAG_MOBIL', 'begin_month', 'dep_value', 'target', 'ID']\n",
    "\n",
    "for i in namelist:\n",
    "    ivtable.drop(ivtable[ivtable['variable'] == i].index, inplace = True)"
   ]
  },
  {
   "cell_type": "code",
   "execution_count": 10,
   "metadata": {},
   "outputs": [
    {
     "data": {
      "text/html": [
       "<div>\n",
       "<style scoped>\n",
       "    .dataframe tbody tr th:only-of-type {\n",
       "        vertical-align: middle;\n",
       "    }\n",
       "\n",
       "    .dataframe tbody tr th {\n",
       "        vertical-align: top;\n",
       "    }\n",
       "\n",
       "    .dataframe thead th {\n",
       "        text-align: right;\n",
       "    }\n",
       "</style>\n",
       "<table border=\"1\" class=\"dataframe\">\n",
       "  <thead>\n",
       "    <tr style=\"text-align: right;\">\n",
       "      <th></th>\n",
       "      <th>variable</th>\n",
       "      <th>IV</th>\n",
       "    </tr>\n",
       "  </thead>\n",
       "  <tbody>\n",
       "    <tr>\n",
       "      <th>1</th>\n",
       "      <td>Gender</td>\n",
       "      <td>None</td>\n",
       "    </tr>\n",
       "    <tr>\n",
       "      <th>2</th>\n",
       "      <td>Car</td>\n",
       "      <td>None</td>\n",
       "    </tr>\n",
       "    <tr>\n",
       "      <th>3</th>\n",
       "      <td>Reality</td>\n",
       "      <td>None</td>\n",
       "    </tr>\n",
       "    <tr>\n",
       "      <th>4</th>\n",
       "      <td>ChldNo</td>\n",
       "      <td>None</td>\n",
       "    </tr>\n",
       "    <tr>\n",
       "      <th>5</th>\n",
       "      <td>inc</td>\n",
       "      <td>None</td>\n",
       "    </tr>\n",
       "  </tbody>\n",
       "</table>\n",
       "</div>"
      ],
      "text/plain": [
       "  variable    IV\n",
       "1   Gender  None\n",
       "2      Car  None\n",
       "3  Reality  None\n",
       "4   ChldNo  None\n",
       "5      inc  None"
      ]
     },
     "execution_count": 10,
     "metadata": {},
     "output_type": "execute_result"
    }
   ],
   "source": [
    "ivtable.head()"
   ]
  },
  {
   "cell_type": "markdown",
   "metadata": {},
   "source": [
    "###  binary features"
   ]
  },
  {
   "cell_type": "code",
   "execution_count": 11,
   "metadata": {},
   "outputs": [],
   "source": [
    "# Calculate information value\n",
    "def calc_iv(df, feature, target , pr = False):\n",
    "    lst = []\n",
    "    df[feature] = df[feature].fillna('NULL')\n",
    "    \n",
    "    for i in range(df[feature].nunique()):\n",
    "        #  binary feature의 유니크한 값이 val로 들어감\n",
    "        val = list(df[feature].unique())[i]\n",
    "        lst.append(\n",
    "# Variable\n",
    "            [feature, \n",
    "# Value               \n",
    "             val, # binary feature의 유니크한 값 (like Female or Male)\n",
    "# All\n",
    "             df[df[feature] == val].count()[feature], # 해당 값의  value_counts() 값\n",
    "# Good (사기 X)\n",
    "            df[(df[feature] == val) & (df[target] == 0)].count()[feature],\n",
    "# Bad (사기)\n",
    "            df[(df[feature] == val) & (df[target] == 1)].count()[feature]]) \n",
    "        \n",
    "    data = pd.DataFrame(lst, columns = ['Variable', 'Value', 'All', 'Good', 'Bad'])\n",
    "    data['Share'] = data['All'] / data['All'].sum()\n",
    "    data['Bad Rate'] = data['Bad'] / data['All']\n",
    "    data['Distribution Good'] = (data['All'] - data['Bad']) / (data['All'].sum() - data['Bad'].sum())\n",
    "    data['Distribution Bad'] = (data['All'] - data['Good']) / (data['All'].sum() - data['Good'].sum())\n",
    "    data['WoE'] = np.log(data['Distribution Good'] / data['Distribution Bad'])\n",
    "    \n",
    "    data = data.replace({'WoE' : {np.inf : 0, -np.inf : 0}})\n",
    "    \n",
    "    data['IV'] = data['WoE'] * (data['Distribution Good'] - data['Distribution Bad'])\n",
    "    \n",
    "    data = data.sort_values(by = ['Variable', 'Value'], ascending = [True, True])\n",
    "    data.index = range(len(data.index))\n",
    "    \n",
    "    if pr:\n",
    "        print(data)\n",
    "        print('IV = ', data['IV'].sum())\n",
    "        \n",
    "    iv = data['IV'].sum()\n",
    "    print('\\nThis Variable {} IV is:', iv )\n",
    "    print(df[feature].value_counts())\n",
    "    return iv, data"
   ]
  },
  {
   "cell_type": "code",
   "execution_count": 12,
   "metadata": {},
   "outputs": [],
   "source": [
    "def convert_dummy(df, feature, rank = 0):\n",
    "    pos = pd.get_dummies(df[feature], prefix = feature)\n",
    "    mode = df[feature].value_counts().index[rank]\n",
    "    biggest = feature + '_' + str(mode)\n",
    "    pos.drop(biggest, axis = 1, inplace = True)\n",
    "    df.drop(feature, axis = 1, inplace = True)\n",
    "    df = df.join(pos)\n",
    "    return df"
   ]
  },
  {
   "cell_type": "code",
   "execution_count": 13,
   "metadata": {},
   "outputs": [],
   "source": [
    "def get_category(df, col, binsum, labels , qcut = False):\n",
    "    if qcut:\n",
    "        localdf = pd.qcut(df[col], q = binsum, labels = labels)\n",
    "    else:\n",
    "        localdf = pd.cut(df[col], bins = binsum, labels = labels)\n",
    "    \n",
    "    localdf = pd.DataFrame(localdf)\n",
    "    name = 'gp' + '_' + col\n",
    "    localdf[name] = localdf[col]\n",
    "    df = df.join(localdf[name])\n",
    "    df[name] = df[name].astpye(object)\n",
    "    return df"
   ]
  },
  {
   "cell_type": "markdown",
   "metadata": {},
   "source": [
    "<b> Gender"
   ]
  },
  {
   "cell_type": "code",
   "execution_count": 14,
   "metadata": {
    "scrolled": true
   },
   "outputs": [
    {
     "name": "stdout",
     "output_type": "stream",
     "text": [
      "0    15630\n",
      "1     9504\n",
      "Name: Gender, dtype: int64\n",
      "\n",
      "This Variable {} IV is: 0.02520350452745081\n",
      "0    15630\n",
      "1     9504\n",
      "Name: Gender, dtype: int64\n"
     ]
    },
    {
     "data": {
      "text/html": [
       "<div>\n",
       "<style scoped>\n",
       "    .dataframe tbody tr th:only-of-type {\n",
       "        vertical-align: middle;\n",
       "    }\n",
       "\n",
       "    .dataframe tbody tr th {\n",
       "        vertical-align: top;\n",
       "    }\n",
       "\n",
       "    .dataframe thead th {\n",
       "        text-align: right;\n",
       "    }\n",
       "</style>\n",
       "<table border=\"1\" class=\"dataframe\">\n",
       "  <thead>\n",
       "    <tr style=\"text-align: right;\">\n",
       "      <th></th>\n",
       "      <th>Variable</th>\n",
       "      <th>Value</th>\n",
       "      <th>All</th>\n",
       "      <th>Good</th>\n",
       "      <th>Bad</th>\n",
       "      <th>Share</th>\n",
       "      <th>Bad Rate</th>\n",
       "      <th>Distribution Good</th>\n",
       "      <th>Distribution Bad</th>\n",
       "      <th>WoE</th>\n",
       "      <th>IV</th>\n",
       "    </tr>\n",
       "  </thead>\n",
       "  <tbody>\n",
       "    <tr>\n",
       "      <th>0</th>\n",
       "      <td>Gender</td>\n",
       "      <td>0</td>\n",
       "      <td>15630</td>\n",
       "      <td>15400</td>\n",
       "      <td>230</td>\n",
       "      <td>0.621867</td>\n",
       "      <td>0.014715</td>\n",
       "      <td>0.623179</td>\n",
       "      <td>0.545024</td>\n",
       "      <td>0.134005</td>\n",
       "      <td>0.010473</td>\n",
       "    </tr>\n",
       "    <tr>\n",
       "      <th>1</th>\n",
       "      <td>Gender</td>\n",
       "      <td>1</td>\n",
       "      <td>9504</td>\n",
       "      <td>9312</td>\n",
       "      <td>192</td>\n",
       "      <td>0.378133</td>\n",
       "      <td>0.020202</td>\n",
       "      <td>0.376821</td>\n",
       "      <td>0.454976</td>\n",
       "      <td>-0.188475</td>\n",
       "      <td>0.014730</td>\n",
       "    </tr>\n",
       "  </tbody>\n",
       "</table>\n",
       "</div>"
      ],
      "text/plain": [
       "  Variable  Value    All   Good  Bad     Share  Bad Rate  Distribution Good  \\\n",
       "0   Gender      0  15630  15400  230  0.621867  0.014715           0.623179   \n",
       "1   Gender      1   9504   9312  192  0.378133  0.020202           0.376821   \n",
       "\n",
       "   Distribution Bad       WoE        IV  \n",
       "0          0.545024  0.134005  0.010473  \n",
       "1          0.454976 -0.188475  0.014730  "
      ]
     },
     "execution_count": 14,
     "metadata": {},
     "output_type": "execute_result"
    }
   ],
   "source": [
    "new_data['Gender'] = new_data['Gender'].replace(['F', 'M'], [0,1])\n",
    "print(new_data['Gender'].value_counts())\n",
    "iv, data = calc_iv(new_data, 'Gender', 'target')\n",
    "ivtable.loc[ivtable['variable'] == 'Gender', 'IV'] = iv\n",
    "data.head()"
   ]
  },
  {
   "cell_type": "markdown",
   "metadata": {},
   "source": [
    "<b> Having a Car or Not"
   ]
  },
  {
   "cell_type": "code",
   "execution_count": 17,
   "metadata": {},
   "outputs": [
    {
     "name": "stdout",
     "output_type": "stream",
     "text": [
      "0    14618\n",
      "1    10516\n",
      "Name: Car, dtype: int64\n",
      "\n",
      "This Variable {} IV is: 4.54248124999671e-06\n",
      "0    14618\n",
      "1    10516\n",
      "Name: Car, dtype: int64\n"
     ]
    },
    {
     "data": {
      "text/html": [
       "<div>\n",
       "<style scoped>\n",
       "    .dataframe tbody tr th:only-of-type {\n",
       "        vertical-align: middle;\n",
       "    }\n",
       "\n",
       "    .dataframe tbody tr th {\n",
       "        vertical-align: top;\n",
       "    }\n",
       "\n",
       "    .dataframe thead th {\n",
       "        text-align: right;\n",
       "    }\n",
       "</style>\n",
       "<table border=\"1\" class=\"dataframe\">\n",
       "  <thead>\n",
       "    <tr style=\"text-align: right;\">\n",
       "      <th></th>\n",
       "      <th>Variable</th>\n",
       "      <th>Value</th>\n",
       "      <th>All</th>\n",
       "      <th>Good</th>\n",
       "      <th>Bad</th>\n",
       "      <th>Share</th>\n",
       "      <th>Bad Rate</th>\n",
       "      <th>Distribution Good</th>\n",
       "      <th>Distribution Bad</th>\n",
       "      <th>WoE</th>\n",
       "      <th>IV</th>\n",
       "    </tr>\n",
       "  </thead>\n",
       "  <tbody>\n",
       "    <tr>\n",
       "      <th>0</th>\n",
       "      <td>Car</td>\n",
       "      <td>0</td>\n",
       "      <td>14618</td>\n",
       "      <td>14373</td>\n",
       "      <td>245</td>\n",
       "      <td>0.581603</td>\n",
       "      <td>0.016760</td>\n",
       "      <td>0.58162</td>\n",
       "      <td>0.580569</td>\n",
       "      <td>0.00181</td>\n",
       "      <td>0.000002</td>\n",
       "    </tr>\n",
       "    <tr>\n",
       "      <th>1</th>\n",
       "      <td>Car</td>\n",
       "      <td>1</td>\n",
       "      <td>10516</td>\n",
       "      <td>10339</td>\n",
       "      <td>177</td>\n",
       "      <td>0.418397</td>\n",
       "      <td>0.016831</td>\n",
       "      <td>0.41838</td>\n",
       "      <td>0.419431</td>\n",
       "      <td>-0.00251</td>\n",
       "      <td>0.000003</td>\n",
       "    </tr>\n",
       "  </tbody>\n",
       "</table>\n",
       "</div>"
      ],
      "text/plain": [
       "  Variable  Value    All   Good  Bad     Share  Bad Rate  Distribution Good  \\\n",
       "0      Car      0  14618  14373  245  0.581603  0.016760            0.58162   \n",
       "1      Car      1  10516  10339  177  0.418397  0.016831            0.41838   \n",
       "\n",
       "   Distribution Bad      WoE        IV  \n",
       "0          0.580569  0.00181  0.000002  \n",
       "1          0.419431 -0.00251  0.000003  "
      ]
     },
     "execution_count": 17,
     "metadata": {},
     "output_type": "execute_result"
    }
   ],
   "source": [
    "new_data['Car'] = new_data['Car'].replace(['N', 'Y'], [0,1])\n",
    "print(new_data['Car'].value_counts())\n",
    "iv, data = calc_iv(new_data, 'Car', 'target')\n",
    "ivtable.loc[ivtable['variable'] == 'Car', 'IV'] = iv\n",
    "data.head()"
   ]
  }
 ],
 "metadata": {
  "kernelspec": {
   "display_name": "Python 3",
   "language": "python",
   "name": "python3"
  },
  "language_info": {
   "codemirror_mode": {
    "name": "ipython",
    "version": 3
   },
   "file_extension": ".py",
   "mimetype": "text/x-python",
   "name": "python",
   "nbconvert_exporter": "python",
   "pygments_lexer": "ipython3",
   "version": "3.7.9"
  }
 },
 "nbformat": 4,
 "nbformat_minor": 4
}
