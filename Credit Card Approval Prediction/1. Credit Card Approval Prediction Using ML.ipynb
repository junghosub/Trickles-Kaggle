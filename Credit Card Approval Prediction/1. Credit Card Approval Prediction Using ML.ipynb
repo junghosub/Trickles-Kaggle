{
 "cells": [
  {
   "cell_type": "markdown",
   "metadata": {},
   "source": [
    "# Credit Card Approval Prediction Using ML"
   ]
  },
  {
   "cell_type": "markdown",
   "metadata": {},
   "source": [
    "link : https://www.kaggle.com/rikdifos/credit-card-approval-prediction-using-ml"
   ]
  },
  {
   "cell_type": "markdown",
   "metadata": {},
   "source": [
    "## Loading Packages and Dataset"
   ]
  },
  {
   "cell_type": "code",
   "execution_count": 1,
   "metadata": {},
   "outputs": [],
   "source": [
    "import warnings\n",
    "warnings.filterwarnings('ignore')\n",
    "import numpy as np\n",
    "import pandas as pd\n",
    "import matplotlib.pyplot as plt\n",
    "import seaborn as sns\n",
    "from imblearn.over_sampling import SMOTE\n",
    "import itertools\n",
    "\n",
    "from sklearn.model_selection import train_test_split\n",
    "from sklearn.metrics import roc_auc_score, confusion_matrix\n",
    "from sklearn.linear_model import LogisticRegression\n",
    "from sklearn.tree import DecisionTreeClassifier\n",
    "\n",
    "from xgboost import XGBClassifier\n",
    "from lightgbm import LGBMClassifier\n",
    "from sklearn.ensemble import RandomForestClassifier"
   ]
  },
  {
   "cell_type": "code",
   "execution_count": 2,
   "metadata": {},
   "outputs": [],
   "source": [
    "data = pd.read_csv('data/application_record.csv', encoding='utf-8')\n",
    "record = pd.read_csv('data/credit_record.csv', encoding = 'utf-8')"
   ]
  },
  {
   "cell_type": "markdown",
   "metadata": {},
   "source": [
    "## Feature Engineering"
   ]
  },
  {
   "cell_type": "code",
   "execution_count": 3,
   "metadata": {},
   "outputs": [],
   "source": [
    "begin_month = pd.DataFrame(record.groupby(['ID'])['MONTHS_BALANCE'].agg(min))\n",
    "begin_month = begin_month.rename(columns = {'MONTHS_BALANCE' : 'begin_month'})\n",
    "new_data = pd.merge(data, begin_month, how = 'left', on = 'ID')"
   ]
  },
  {
   "cell_type": "code",
   "execution_count": 4,
   "metadata": {},
   "outputs": [],
   "source": [
    "record['dep_value'] = None\n",
    "record['dep_value'][record['STATUS'] == '2'] = 'YES'\n",
    "record['dep_value'][record['STATUS'] == '3'] = 'YES'\n",
    "record['dep_value'][record['STATUS'] == '4'] = 'YES'\n",
    "record['dep_value'][record['STATUS'] == '5'] = 'YES'"
   ]
  },
  {
   "cell_type": "code",
   "execution_count": 5,
   "metadata": {},
   "outputs": [],
   "source": [
    "cpunt = record.groupby('ID').count()\n",
    "cpunt['dep_value'][cpunt['dep_value'] > 0] = 'Yes'\n",
    "cpunt['dep_value'][cpunt['dep_value'] == 0] = 'No'\n",
    "cpunt = cpunt[['dep_value']]\n",
    "\n",
    "new_data = pd.merge(new_data, cpunt, how = 'inner', on = 'ID')\n",
    "new_data['target'] = new_data['dep_value']\n",
    "new_data.loc[new_data['target'] == 'Yes', 'target'] = 1\n",
    "new_data.loc[new_data['target'] == 'No', 'target'] = 0"
   ]
  },
  {
   "cell_type": "code",
   "execution_count": 6,
   "metadata": {},
   "outputs": [
    {
     "name": "stdout",
     "output_type": "stream",
     "text": [
      "No     45318\n",
      "Yes      667\n",
      "Name: dep_value, dtype: int64\n"
     ]
    },
    {
     "data": {
      "text/plain": [
       "No     0.985495\n",
       "Yes    0.014505\n",
       "Name: dep_value, dtype: float64"
      ]
     },
     "execution_count": 6,
     "metadata": {},
     "output_type": "execute_result"
    }
   ],
   "source": [
    "print(cpunt['dep_value'].value_counts())\n",
    "cpunt['dep_value'].value_counts(normalize = True)"
   ]
  },
  {
   "cell_type": "markdown",
   "metadata": {},
   "source": [
    "<b> rename"
   ]
  },
  {
   "cell_type": "code",
   "execution_count": 7,
   "metadata": {},
   "outputs": [],
   "source": [
    "new_data.rename(columns={'CODE_GENDER':'Gender','FLAG_OWN_CAR':'Car','FLAG_OWN_REALTY':'Reality',\n",
    "                         'CNT_CHILDREN':'ChldNo','AMT_INCOME_TOTAL':'inc',\n",
    "                         'NAME_EDUCATION_TYPE':'edutp','NAME_FAMILY_STATUS':'famtp',\n",
    "                        'NAME_HOUSING_TYPE':'houtp','FLAG_EMAIL':'email',\n",
    "                         'NAME_INCOME_TYPE':'inctp','FLAG_WORK_PHONE':'wkphone',\n",
    "                         'FLAG_PHONE':'phone','CNT_FAM_MEMBERS':'famsize',\n",
    "                        'OCCUPATION_TYPE':'occyp'\n",
    "                        },inplace=True)"
   ]
  },
  {
   "cell_type": "code",
   "execution_count": 8,
   "metadata": {},
   "outputs": [],
   "source": [
    "new_data.dropna()\n",
    "new_data = new_data.mask(new_data == 'NULL').dropna()"
   ]
  },
  {
   "cell_type": "code",
   "execution_count": 9,
   "metadata": {},
   "outputs": [],
   "source": [
    "ivtable = pd.DataFrame(new_data.columns, columns = ['variable'])\n",
    "ivtable['IV'] = None\n",
    "namelist = ['FLAG_MOBIL', 'begin_month', 'dep_value', 'target', 'ID']\n",
    "\n",
    "for i in namelist:\n",
    "    ivtable.drop(ivtable[ivtable['variable'] == i].index, inplace = True)"
   ]
  },
  {
   "cell_type": "code",
   "execution_count": 10,
   "metadata": {},
   "outputs": [
    {
     "data": {
      "text/html": [
       "<div>\n",
       "<style scoped>\n",
       "    .dataframe tbody tr th:only-of-type {\n",
       "        vertical-align: middle;\n",
       "    }\n",
       "\n",
       "    .dataframe tbody tr th {\n",
       "        vertical-align: top;\n",
       "    }\n",
       "\n",
       "    .dataframe thead th {\n",
       "        text-align: right;\n",
       "    }\n",
       "</style>\n",
       "<table border=\"1\" class=\"dataframe\">\n",
       "  <thead>\n",
       "    <tr style=\"text-align: right;\">\n",
       "      <th></th>\n",
       "      <th>variable</th>\n",
       "      <th>IV</th>\n",
       "    </tr>\n",
       "  </thead>\n",
       "  <tbody>\n",
       "    <tr>\n",
       "      <th>1</th>\n",
       "      <td>Gender</td>\n",
       "      <td>None</td>\n",
       "    </tr>\n",
       "    <tr>\n",
       "      <th>2</th>\n",
       "      <td>Car</td>\n",
       "      <td>None</td>\n",
       "    </tr>\n",
       "    <tr>\n",
       "      <th>3</th>\n",
       "      <td>Reality</td>\n",
       "      <td>None</td>\n",
       "    </tr>\n",
       "    <tr>\n",
       "      <th>4</th>\n",
       "      <td>ChldNo</td>\n",
       "      <td>None</td>\n",
       "    </tr>\n",
       "    <tr>\n",
       "      <th>5</th>\n",
       "      <td>inc</td>\n",
       "      <td>None</td>\n",
       "    </tr>\n",
       "  </tbody>\n",
       "</table>\n",
       "</div>"
      ],
      "text/plain": [
       "  variable    IV\n",
       "1   Gender  None\n",
       "2      Car  None\n",
       "3  Reality  None\n",
       "4   ChldNo  None\n",
       "5      inc  None"
      ]
     },
     "execution_count": 10,
     "metadata": {},
     "output_type": "execute_result"
    }
   ],
   "source": [
    "ivtable.head()"
   ]
  },
  {
   "cell_type": "markdown",
   "metadata": {},
   "source": [
    "###  binary features"
   ]
  },
  {
   "cell_type": "code",
   "execution_count": 11,
   "metadata": {},
   "outputs": [],
   "source": [
    "# Calculate information value\n",
    "def calc_iv(df, feature, target , pr = False):\n",
    "    lst = []\n",
    "    df[feature] = df[feature].fillna('NULL')\n",
    "    \n",
    "    for i in range(df[feature].nunique()):\n",
    "        #  binary feature의 유니크한 값이 val로 들어감\n",
    "        val = list(df[feature].unique())[i]\n",
    "        lst.append(\n",
    "# Variable\n",
    "            [feature, \n",
    "# Value               \n",
    "             val, # binary feature의 유니크한 값 (like Female or Male)\n",
    "# All\n",
    "             df[df[feature] == val].count()[feature], # 해당 값의  value_counts() 값\n",
    "# Good (사기 X)\n",
    "            df[(df[feature] == val) & (df[target] == 0)].count()[feature],\n",
    "# Bad (사기)\n",
    "            df[(df[feature] == val) & (df[target] == 1)].count()[feature]]) \n",
    "        \n",
    "    data = pd.DataFrame(lst, columns = ['Variable', 'Value', 'All', 'Good', 'Bad'])\n",
    "    data['Share'] = data['All'] / data['All'].sum()\n",
    "    data['Bad Rate'] = data['Bad'] / data['All']\n",
    "    data['Distribution Good'] = (data['All'] - data['Bad']) / (data['All'].sum() - data['Bad'].sum())\n",
    "    data['Distribution Bad'] = (data['All'] - data['Good']) / (data['All'].sum() - data['Good'].sum())\n",
    "    data['WoE'] = np.log(data['Distribution Good'] / data['Distribution Bad'])\n",
    "    \n",
    "    data = data.replace({'WoE' : {np.inf : 0, -np.inf : 0}})\n",
    "    \n",
    "    data['IV'] = data['WoE'] * (data['Distribution Good'] - data['Distribution Bad'])\n",
    "    \n",
    "    data = data.sort_values(by = ['Variable', 'Value'], ascending = [True, True])\n",
    "    data.index = range(len(data.index))\n",
    "    \n",
    "    if pr:\n",
    "        print(data)\n",
    "        print('IV = ', data['IV'].sum())\n",
    "        \n",
    "    iv = data['IV'].sum()\n",
    "    print('\\nThis Variable IV is: {}'.format(iv))\n",
    "    print(df[feature].value_counts())\n",
    "    return iv, data"
   ]
  },
  {
   "cell_type": "code",
   "execution_count": 12,
   "metadata": {},
   "outputs": [],
   "source": [
    "def convert_dummy(df, feature, rank = 0):\n",
    "    pos = pd.get_dummies(df[feature], prefix = feature)\n",
    "    mode = df[feature].value_counts().index[rank]\n",
    "    biggest = feature + '_' + str(mode)\n",
    "    pos.drop(biggest, axis = 1, inplace = True)\n",
    "    df.drop(feature, axis = 1, inplace = True)\n",
    "    df = df.join(pos)\n",
    "    return df"
   ]
  },
  {
   "cell_type": "code",
   "execution_count": 13,
   "metadata": {},
   "outputs": [],
   "source": [
    "def get_category(df, col, binsum, labels , qcut = False):\n",
    "    if qcut:\n",
    "        localdf = pd.qcut(df[col], q = binsum, labels = labels)\n",
    "    else:\n",
    "        localdf = pd.cut(df[col], bins = binsum, labels = labels)\n",
    "    \n",
    "    localdf = pd.DataFrame(localdf)\n",
    "    name = 'gp' + '_' + col\n",
    "    localdf[name] = localdf[col]\n",
    "    df = df.join(localdf[name])\n",
    "    df[name] = df[name].astype(object)\n",
    "    return df"
   ]
  },
  {
   "cell_type": "markdown",
   "metadata": {},
   "source": [
    "<b> Gender"
   ]
  },
  {
   "cell_type": "code",
   "execution_count": 14,
   "metadata": {
    "scrolled": true
   },
   "outputs": [
    {
     "name": "stdout",
     "output_type": "stream",
     "text": [
      "0    15630\n",
      "1     9504\n",
      "Name: Gender, dtype: int64\n",
      "\n",
      "This Variable IV is: 0.02520350452745081\n",
      "0    15630\n",
      "1     9504\n",
      "Name: Gender, dtype: int64\n"
     ]
    },
    {
     "data": {
      "text/html": [
       "<div>\n",
       "<style scoped>\n",
       "    .dataframe tbody tr th:only-of-type {\n",
       "        vertical-align: middle;\n",
       "    }\n",
       "\n",
       "    .dataframe tbody tr th {\n",
       "        vertical-align: top;\n",
       "    }\n",
       "\n",
       "    .dataframe thead th {\n",
       "        text-align: right;\n",
       "    }\n",
       "</style>\n",
       "<table border=\"1\" class=\"dataframe\">\n",
       "  <thead>\n",
       "    <tr style=\"text-align: right;\">\n",
       "      <th></th>\n",
       "      <th>Variable</th>\n",
       "      <th>Value</th>\n",
       "      <th>All</th>\n",
       "      <th>Good</th>\n",
       "      <th>Bad</th>\n",
       "      <th>Share</th>\n",
       "      <th>Bad Rate</th>\n",
       "      <th>Distribution Good</th>\n",
       "      <th>Distribution Bad</th>\n",
       "      <th>WoE</th>\n",
       "      <th>IV</th>\n",
       "    </tr>\n",
       "  </thead>\n",
       "  <tbody>\n",
       "    <tr>\n",
       "      <th>0</th>\n",
       "      <td>Gender</td>\n",
       "      <td>0</td>\n",
       "      <td>15630</td>\n",
       "      <td>15400</td>\n",
       "      <td>230</td>\n",
       "      <td>0.621867</td>\n",
       "      <td>0.014715</td>\n",
       "      <td>0.623179</td>\n",
       "      <td>0.545024</td>\n",
       "      <td>0.134005</td>\n",
       "      <td>0.010473</td>\n",
       "    </tr>\n",
       "    <tr>\n",
       "      <th>1</th>\n",
       "      <td>Gender</td>\n",
       "      <td>1</td>\n",
       "      <td>9504</td>\n",
       "      <td>9312</td>\n",
       "      <td>192</td>\n",
       "      <td>0.378133</td>\n",
       "      <td>0.020202</td>\n",
       "      <td>0.376821</td>\n",
       "      <td>0.454976</td>\n",
       "      <td>-0.188475</td>\n",
       "      <td>0.014730</td>\n",
       "    </tr>\n",
       "  </tbody>\n",
       "</table>\n",
       "</div>"
      ],
      "text/plain": [
       "  Variable  Value    All   Good  Bad     Share  Bad Rate  Distribution Good  \\\n",
       "0   Gender      0  15630  15400  230  0.621867  0.014715           0.623179   \n",
       "1   Gender      1   9504   9312  192  0.378133  0.020202           0.376821   \n",
       "\n",
       "   Distribution Bad       WoE        IV  \n",
       "0          0.545024  0.134005  0.010473  \n",
       "1          0.454976 -0.188475  0.014730  "
      ]
     },
     "execution_count": 14,
     "metadata": {},
     "output_type": "execute_result"
    }
   ],
   "source": [
    "new_data['Gender'] = new_data['Gender'].replace(['F', 'M'], [0,1])\n",
    "print(new_data['Gender'].value_counts())\n",
    "iv, data = calc_iv(new_data, 'Gender', 'target')\n",
    "ivtable.loc[ivtable['variable'] == 'Gender', 'IV'] = iv\n",
    "data.head()"
   ]
  },
  {
   "cell_type": "markdown",
   "metadata": {},
   "source": [
    "<b> Having a Car or Not"
   ]
  },
  {
   "cell_type": "code",
   "execution_count": 15,
   "metadata": {},
   "outputs": [
    {
     "name": "stdout",
     "output_type": "stream",
     "text": [
      "0    14618\n",
      "1    10516\n",
      "Name: Car, dtype: int64\n",
      "\n",
      "This Variable IV is: 4.54248124999671e-06\n",
      "0    14618\n",
      "1    10516\n",
      "Name: Car, dtype: int64\n"
     ]
    },
    {
     "data": {
      "text/html": [
       "<div>\n",
       "<style scoped>\n",
       "    .dataframe tbody tr th:only-of-type {\n",
       "        vertical-align: middle;\n",
       "    }\n",
       "\n",
       "    .dataframe tbody tr th {\n",
       "        vertical-align: top;\n",
       "    }\n",
       "\n",
       "    .dataframe thead th {\n",
       "        text-align: right;\n",
       "    }\n",
       "</style>\n",
       "<table border=\"1\" class=\"dataframe\">\n",
       "  <thead>\n",
       "    <tr style=\"text-align: right;\">\n",
       "      <th></th>\n",
       "      <th>Variable</th>\n",
       "      <th>Value</th>\n",
       "      <th>All</th>\n",
       "      <th>Good</th>\n",
       "      <th>Bad</th>\n",
       "      <th>Share</th>\n",
       "      <th>Bad Rate</th>\n",
       "      <th>Distribution Good</th>\n",
       "      <th>Distribution Bad</th>\n",
       "      <th>WoE</th>\n",
       "      <th>IV</th>\n",
       "    </tr>\n",
       "  </thead>\n",
       "  <tbody>\n",
       "    <tr>\n",
       "      <th>0</th>\n",
       "      <td>Car</td>\n",
       "      <td>0</td>\n",
       "      <td>14618</td>\n",
       "      <td>14373</td>\n",
       "      <td>245</td>\n",
       "      <td>0.581603</td>\n",
       "      <td>0.016760</td>\n",
       "      <td>0.58162</td>\n",
       "      <td>0.580569</td>\n",
       "      <td>0.00181</td>\n",
       "      <td>0.000002</td>\n",
       "    </tr>\n",
       "    <tr>\n",
       "      <th>1</th>\n",
       "      <td>Car</td>\n",
       "      <td>1</td>\n",
       "      <td>10516</td>\n",
       "      <td>10339</td>\n",
       "      <td>177</td>\n",
       "      <td>0.418397</td>\n",
       "      <td>0.016831</td>\n",
       "      <td>0.41838</td>\n",
       "      <td>0.419431</td>\n",
       "      <td>-0.00251</td>\n",
       "      <td>0.000003</td>\n",
       "    </tr>\n",
       "  </tbody>\n",
       "</table>\n",
       "</div>"
      ],
      "text/plain": [
       "  Variable  Value    All   Good  Bad     Share  Bad Rate  Distribution Good  \\\n",
       "0      Car      0  14618  14373  245  0.581603  0.016760            0.58162   \n",
       "1      Car      1  10516  10339  177  0.418397  0.016831            0.41838   \n",
       "\n",
       "   Distribution Bad      WoE        IV  \n",
       "0          0.580569  0.00181  0.000002  \n",
       "1          0.419431 -0.00251  0.000003  "
      ]
     },
     "execution_count": 15,
     "metadata": {},
     "output_type": "execute_result"
    }
   ],
   "source": [
    "new_data['Car'] = new_data['Car'].replace(['N', 'Y'], [0,1])\n",
    "print(new_data['Car'].value_counts())\n",
    "iv, data = calc_iv(new_data, 'Car', 'target')\n",
    "ivtable.loc[ivtable['variable'] == 'Car', 'IV'] = iv\n",
    "data.head()"
   ]
  },
  {
   "cell_type": "markdown",
   "metadata": {},
   "source": [
    "<b> Having house reality or not"
   ]
  },
  {
   "cell_type": "code",
   "execution_count": 16,
   "metadata": {},
   "outputs": [
    {
     "name": "stdout",
     "output_type": "stream",
     "text": [
      "1    16461\n",
      "0     8673\n",
      "Name: Reality, dtype: int64\n",
      "\n",
      "This Variable IV is: 0.02744070350168343\n",
      "1    16461\n",
      "0     8673\n",
      "Name: Reality, dtype: int64\n"
     ]
    },
    {
     "data": {
      "text/html": [
       "<div>\n",
       "<style scoped>\n",
       "    .dataframe tbody tr th:only-of-type {\n",
       "        vertical-align: middle;\n",
       "    }\n",
       "\n",
       "    .dataframe tbody tr th {\n",
       "        vertical-align: top;\n",
       "    }\n",
       "\n",
       "    .dataframe thead th {\n",
       "        text-align: right;\n",
       "    }\n",
       "</style>\n",
       "<table border=\"1\" class=\"dataframe\">\n",
       "  <thead>\n",
       "    <tr style=\"text-align: right;\">\n",
       "      <th></th>\n",
       "      <th>Variable</th>\n",
       "      <th>Value</th>\n",
       "      <th>All</th>\n",
       "      <th>Good</th>\n",
       "      <th>Bad</th>\n",
       "      <th>Share</th>\n",
       "      <th>Bad Rate</th>\n",
       "      <th>Distribution Good</th>\n",
       "      <th>Distribution Bad</th>\n",
       "      <th>WoE</th>\n",
       "      <th>IV</th>\n",
       "    </tr>\n",
       "  </thead>\n",
       "  <tbody>\n",
       "    <tr>\n",
       "      <th>0</th>\n",
       "      <td>Reality</td>\n",
       "      <td>0</td>\n",
       "      <td>8673</td>\n",
       "      <td>8494</td>\n",
       "      <td>179</td>\n",
       "      <td>0.34507</td>\n",
       "      <td>0.020639</td>\n",
       "      <td>0.34372</td>\n",
       "      <td>0.424171</td>\n",
       "      <td>-0.210309</td>\n",
       "      <td>0.016920</td>\n",
       "    </tr>\n",
       "    <tr>\n",
       "      <th>1</th>\n",
       "      <td>Reality</td>\n",
       "      <td>1</td>\n",
       "      <td>16461</td>\n",
       "      <td>16218</td>\n",
       "      <td>243</td>\n",
       "      <td>0.65493</td>\n",
       "      <td>0.014762</td>\n",
       "      <td>0.65628</td>\n",
       "      <td>0.575829</td>\n",
       "      <td>0.130777</td>\n",
       "      <td>0.010521</td>\n",
       "    </tr>\n",
       "  </tbody>\n",
       "</table>\n",
       "</div>"
      ],
      "text/plain": [
       "  Variable  Value    All   Good  Bad    Share  Bad Rate  Distribution Good  \\\n",
       "0  Reality      0   8673   8494  179  0.34507  0.020639            0.34372   \n",
       "1  Reality      1  16461  16218  243  0.65493  0.014762            0.65628   \n",
       "\n",
       "   Distribution Bad       WoE        IV  \n",
       "0          0.424171 -0.210309  0.016920  \n",
       "1          0.575829  0.130777  0.010521  "
      ]
     },
     "execution_count": 16,
     "metadata": {},
     "output_type": "execute_result"
    }
   ],
   "source": [
    "new_data['Reality'] = new_data['Reality'].replace(['N', 'Y'], [0,1])\n",
    "print(new_data['Reality'].value_counts())\n",
    "iv, data = calc_iv(new_data, 'Reality', 'target')\n",
    "ivtable.loc[ivtable['variable'] == 'Reality', 'IV'] = iv\n",
    "data.head()"
   ]
  },
  {
   "cell_type": "markdown",
   "metadata": {},
   "source": [
    "<b> Having a phone or not"
   ]
  },
  {
   "cell_type": "code",
   "execution_count": 17,
   "metadata": {},
   "outputs": [
    {
     "name": "stdout",
     "output_type": "stream",
     "text": [
      "1    0.292791\n",
      "0    0.707209\n",
      "Name: phone, dtype: float64\n",
      "\n",
      "This Variable IV is: 0.0005480495762639297\n",
      "0    17775\n",
      "1     7359\n",
      "Name: phone, dtype: int64\n"
     ]
    },
    {
     "data": {
      "text/html": [
       "<div>\n",
       "<style scoped>\n",
       "    .dataframe tbody tr th:only-of-type {\n",
       "        vertical-align: middle;\n",
       "    }\n",
       "\n",
       "    .dataframe tbody tr th {\n",
       "        vertical-align: top;\n",
       "    }\n",
       "\n",
       "    .dataframe thead th {\n",
       "        text-align: right;\n",
       "    }\n",
       "</style>\n",
       "<table border=\"1\" class=\"dataframe\">\n",
       "  <thead>\n",
       "    <tr style=\"text-align: right;\">\n",
       "      <th></th>\n",
       "      <th>Variable</th>\n",
       "      <th>Value</th>\n",
       "      <th>All</th>\n",
       "      <th>Good</th>\n",
       "      <th>Bad</th>\n",
       "      <th>Share</th>\n",
       "      <th>Bad Rate</th>\n",
       "      <th>Distribution Good</th>\n",
       "      <th>Distribution Bad</th>\n",
       "      <th>WoE</th>\n",
       "      <th>IV</th>\n",
       "    </tr>\n",
       "  </thead>\n",
       "  <tbody>\n",
       "    <tr>\n",
       "      <th>0</th>\n",
       "      <td>phone</td>\n",
       "      <td>0</td>\n",
       "      <td>17775</td>\n",
       "      <td>17481</td>\n",
       "      <td>294</td>\n",
       "      <td>0.707209</td>\n",
       "      <td>0.016540</td>\n",
       "      <td>0.707389</td>\n",
       "      <td>0.696682</td>\n",
       "      <td>0.015251</td>\n",
       "      <td>0.000163</td>\n",
       "    </tr>\n",
       "    <tr>\n",
       "      <th>1</th>\n",
       "      <td>phone</td>\n",
       "      <td>1</td>\n",
       "      <td>7359</td>\n",
       "      <td>7231</td>\n",
       "      <td>128</td>\n",
       "      <td>0.292791</td>\n",
       "      <td>0.017394</td>\n",
       "      <td>0.292611</td>\n",
       "      <td>0.303318</td>\n",
       "      <td>-0.035937</td>\n",
       "      <td>0.000385</td>\n",
       "    </tr>\n",
       "  </tbody>\n",
       "</table>\n",
       "</div>"
      ],
      "text/plain": [
       "  Variable Value    All   Good  Bad     Share  Bad Rate  Distribution Good  \\\n",
       "0    phone     0  17775  17481  294  0.707209  0.016540           0.707389   \n",
       "1    phone     1   7359   7231  128  0.292791  0.017394           0.292611   \n",
       "\n",
       "   Distribution Bad       WoE        IV  \n",
       "0          0.696682  0.015251  0.000163  \n",
       "1          0.303318 -0.035937  0.000385  "
      ]
     },
     "execution_count": 17,
     "metadata": {},
     "output_type": "execute_result"
    }
   ],
   "source": [
    "new_data['phone'] = new_data['phone'].astype(str)\n",
    "print(new_data['phone'].value_counts(normalize = True, sort = False))\n",
    "new_data.drop(new_data[new_data['phone'] == 'nan'].index, inplace = True)\n",
    "iv, data = calc_iv(new_data, 'phone', 'target')\n",
    "ivtable.loc[ivtable['variable'] == 'phone', 'IV'] = iv\n",
    "data.head()"
   ]
  },
  {
   "cell_type": "markdown",
   "metadata": {},
   "source": [
    "<b> Having an email or not"
   ]
  },
  {
   "cell_type": "code",
   "execution_count": 18,
   "metadata": {},
   "outputs": [
    {
     "name": "stdout",
     "output_type": "stream",
     "text": [
      "0    0.89934\n",
      "1    0.10066\n",
      "Name: email, dtype: float64\n",
      "\n",
      "This Variable IV is: 1.7343581493999816e-05\n",
      "0    22604\n",
      "1     2530\n",
      "Name: email, dtype: int64\n"
     ]
    },
    {
     "data": {
      "text/html": [
       "<div>\n",
       "<style scoped>\n",
       "    .dataframe tbody tr th:only-of-type {\n",
       "        vertical-align: middle;\n",
       "    }\n",
       "\n",
       "    .dataframe tbody tr th {\n",
       "        vertical-align: top;\n",
       "    }\n",
       "\n",
       "    .dataframe thead th {\n",
       "        text-align: right;\n",
       "    }\n",
       "</style>\n",
       "<table border=\"1\" class=\"dataframe\">\n",
       "  <thead>\n",
       "    <tr style=\"text-align: right;\">\n",
       "      <th></th>\n",
       "      <th>Variable</th>\n",
       "      <th>Value</th>\n",
       "      <th>All</th>\n",
       "      <th>Good</th>\n",
       "      <th>Bad</th>\n",
       "      <th>Share</th>\n",
       "      <th>Bad Rate</th>\n",
       "      <th>Distribution Good</th>\n",
       "      <th>Distribution Bad</th>\n",
       "      <th>WoE</th>\n",
       "      <th>IV</th>\n",
       "    </tr>\n",
       "  </thead>\n",
       "  <tbody>\n",
       "    <tr>\n",
       "      <th>0</th>\n",
       "      <td>email</td>\n",
       "      <td>0</td>\n",
       "      <td>22604</td>\n",
       "      <td>22225</td>\n",
       "      <td>379</td>\n",
       "      <td>0.89934</td>\n",
       "      <td>0.016767</td>\n",
       "      <td>0.899361</td>\n",
       "      <td>0.898104</td>\n",
       "      <td>0.001398</td>\n",
       "      <td>0.000002</td>\n",
       "    </tr>\n",
       "    <tr>\n",
       "      <th>1</th>\n",
       "      <td>email</td>\n",
       "      <td>1</td>\n",
       "      <td>2530</td>\n",
       "      <td>2487</td>\n",
       "      <td>43</td>\n",
       "      <td>0.10066</td>\n",
       "      <td>0.016996</td>\n",
       "      <td>0.100639</td>\n",
       "      <td>0.101896</td>\n",
       "      <td>-0.012407</td>\n",
       "      <td>0.000016</td>\n",
       "    </tr>\n",
       "  </tbody>\n",
       "</table>\n",
       "</div>"
      ],
      "text/plain": [
       "  Variable Value    All   Good  Bad    Share  Bad Rate  Distribution Good  \\\n",
       "0    email     0  22604  22225  379  0.89934  0.016767           0.899361   \n",
       "1    email     1   2530   2487   43  0.10066  0.016996           0.100639   \n",
       "\n",
       "   Distribution Bad       WoE        IV  \n",
       "0          0.898104  0.001398  0.000002  \n",
       "1          0.101896 -0.012407  0.000016  "
      ]
     },
     "execution_count": 18,
     "metadata": {},
     "output_type": "execute_result"
    }
   ],
   "source": [
    "print(new_data['email'].value_counts(normalize = True, sort = True))\n",
    "new_data['email'] = new_data['email'].astype(str)\n",
    "iv, data = calc_iv(new_data, 'email', 'target')\n",
    "ivtable.loc[ivtable['variable'] == 'email', 'IV'] = iv\n",
    "data.head()"
   ]
  },
  {
   "cell_type": "markdown",
   "metadata": {},
   "source": [
    "<b> Having a Work phone or not"
   ]
  },
  {
   "cell_type": "code",
   "execution_count": 19,
   "metadata": {},
   "outputs": [
    {
     "name": "stdout",
     "output_type": "stream",
     "text": [
      "\n",
      "This Variable IV is: 0.002042429795148461\n",
      "0    18252\n",
      "1     6882\n",
      "Name: wkphone, dtype: int64\n"
     ]
    },
    {
     "data": {
      "text/html": [
       "<div>\n",
       "<style scoped>\n",
       "    .dataframe tbody tr th:only-of-type {\n",
       "        vertical-align: middle;\n",
       "    }\n",
       "\n",
       "    .dataframe tbody tr th {\n",
       "        vertical-align: top;\n",
       "    }\n",
       "\n",
       "    .dataframe thead th {\n",
       "        text-align: right;\n",
       "    }\n",
       "</style>\n",
       "<table border=\"1\" class=\"dataframe\">\n",
       "  <thead>\n",
       "    <tr style=\"text-align: right;\">\n",
       "      <th></th>\n",
       "      <th>Variable</th>\n",
       "      <th>Value</th>\n",
       "      <th>All</th>\n",
       "      <th>Good</th>\n",
       "      <th>Bad</th>\n",
       "      <th>Share</th>\n",
       "      <th>Bad Rate</th>\n",
       "      <th>Distribution Good</th>\n",
       "      <th>Distribution Bad</th>\n",
       "      <th>WoE</th>\n",
       "      <th>IV</th>\n",
       "    </tr>\n",
       "  </thead>\n",
       "  <tbody>\n",
       "    <tr>\n",
       "      <th>0</th>\n",
       "      <td>wkphone</td>\n",
       "      <td>0</td>\n",
       "      <td>18252</td>\n",
       "      <td>17954</td>\n",
       "      <td>298</td>\n",
       "      <td>0.726188</td>\n",
       "      <td>0.016327</td>\n",
       "      <td>0.72653</td>\n",
       "      <td>0.706161</td>\n",
       "      <td>0.028436</td>\n",
       "      <td>0.000579</td>\n",
       "    </tr>\n",
       "    <tr>\n",
       "      <th>1</th>\n",
       "      <td>wkphone</td>\n",
       "      <td>1</td>\n",
       "      <td>6882</td>\n",
       "      <td>6758</td>\n",
       "      <td>124</td>\n",
       "      <td>0.273812</td>\n",
       "      <td>0.018018</td>\n",
       "      <td>0.27347</td>\n",
       "      <td>0.293839</td>\n",
       "      <td>-0.071838</td>\n",
       "      <td>0.001463</td>\n",
       "    </tr>\n",
       "  </tbody>\n",
       "</table>\n",
       "</div>"
      ],
      "text/plain": [
       "  Variable Value    All   Good  Bad     Share  Bad Rate  Distribution Good  \\\n",
       "0  wkphone     0  18252  17954  298  0.726188  0.016327            0.72653   \n",
       "1  wkphone     1   6882   6758  124  0.273812  0.018018            0.27347   \n",
       "\n",
       "   Distribution Bad       WoE        IV  \n",
       "0          0.706161  0.028436  0.000579  \n",
       "1          0.293839 -0.071838  0.001463  "
      ]
     },
     "execution_count": 19,
     "metadata": {},
     "output_type": "execute_result"
    }
   ],
   "source": [
    "new_data['wkphone'] = new_data['wkphone'].astype(str)\n",
    "iv, data = calc_iv(new_data, 'wkphone', 'target')\n",
    "new_data.drop(new_data[new_data['wkphone'] == 'nan'].index, inplace = True)\n",
    "ivtable.loc[ivtable['variable'] == 'wkphone', 'IV'] = iv\n",
    "data.head()"
   ]
  },
  {
   "cell_type": "markdown",
   "metadata": {},
   "source": [
    "### Continuous Variables"
   ]
  },
  {
   "cell_type": "markdown",
   "metadata": {},
   "source": [
    "<b> Children Numbers"
   ]
  },
  {
   "cell_type": "code",
   "execution_count": 20,
   "metadata": {},
   "outputs": [
    {
     "name": "stdout",
     "output_type": "stream",
     "text": [
      "0        15908\n",
      "1         6118\n",
      "2More     3108\n",
      "Name: ChldNo, dtype: int64\n"
     ]
    }
   ],
   "source": [
    "new_data.loc[new_data['ChldNo'] >= 2, 'ChldNo'] = '2More'\n",
    "print(new_data['ChldNo'].value_counts(sort = False))"
   ]
  },
  {
   "cell_type": "code",
   "execution_count": 21,
   "metadata": {},
   "outputs": [
    {
     "name": "stdout",
     "output_type": "stream",
     "text": [
      "\n",
      "This Variable IV is: 0.0011214542503301935\n",
      "0        15908\n",
      "1         6118\n",
      "2More     3108\n",
      "Name: ChldNo, dtype: int64\n"
     ]
    },
    {
     "data": {
      "text/html": [
       "<div>\n",
       "<style scoped>\n",
       "    .dataframe tbody tr th:only-of-type {\n",
       "        vertical-align: middle;\n",
       "    }\n",
       "\n",
       "    .dataframe tbody tr th {\n",
       "        vertical-align: top;\n",
       "    }\n",
       "\n",
       "    .dataframe thead th {\n",
       "        text-align: right;\n",
       "    }\n",
       "</style>\n",
       "<table border=\"1\" class=\"dataframe\">\n",
       "  <thead>\n",
       "    <tr style=\"text-align: right;\">\n",
       "      <th></th>\n",
       "      <th>Variable</th>\n",
       "      <th>Value</th>\n",
       "      <th>All</th>\n",
       "      <th>Good</th>\n",
       "      <th>Bad</th>\n",
       "      <th>Share</th>\n",
       "      <th>Bad Rate</th>\n",
       "      <th>Distribution Good</th>\n",
       "      <th>Distribution Bad</th>\n",
       "      <th>WoE</th>\n",
       "      <th>IV</th>\n",
       "    </tr>\n",
       "  </thead>\n",
       "  <tbody>\n",
       "    <tr>\n",
       "      <th>0</th>\n",
       "      <td>ChldNo</td>\n",
       "      <td>0</td>\n",
       "      <td>15908</td>\n",
       "      <td>15635</td>\n",
       "      <td>273</td>\n",
       "      <td>0.632928</td>\n",
       "      <td>0.017161</td>\n",
       "      <td>0.632689</td>\n",
       "      <td>0.646919</td>\n",
       "      <td>-0.022243</td>\n",
       "      <td>0.000317</td>\n",
       "    </tr>\n",
       "    <tr>\n",
       "      <th>1</th>\n",
       "      <td>ChldNo</td>\n",
       "      <td>1</td>\n",
       "      <td>6118</td>\n",
       "      <td>6021</td>\n",
       "      <td>97</td>\n",
       "      <td>0.243415</td>\n",
       "      <td>0.015855</td>\n",
       "      <td>0.243647</td>\n",
       "      <td>0.229858</td>\n",
       "      <td>0.058259</td>\n",
       "      <td>0.000803</td>\n",
       "    </tr>\n",
       "    <tr>\n",
       "      <th>2</th>\n",
       "      <td>ChldNo</td>\n",
       "      <td>2More</td>\n",
       "      <td>3108</td>\n",
       "      <td>3056</td>\n",
       "      <td>52</td>\n",
       "      <td>0.123657</td>\n",
       "      <td>0.016731</td>\n",
       "      <td>0.123665</td>\n",
       "      <td>0.123223</td>\n",
       "      <td>0.003580</td>\n",
       "      <td>0.000002</td>\n",
       "    </tr>\n",
       "  </tbody>\n",
       "</table>\n",
       "</div>"
      ],
      "text/plain": [
       "  Variable  Value    All   Good  Bad     Share  Bad Rate  Distribution Good  \\\n",
       "0   ChldNo      0  15908  15635  273  0.632928  0.017161           0.632689   \n",
       "1   ChldNo      1   6118   6021   97  0.243415  0.015855           0.243647   \n",
       "2   ChldNo  2More   3108   3056   52  0.123657  0.016731           0.123665   \n",
       "\n",
       "   Distribution Bad       WoE        IV  \n",
       "0          0.646919 -0.022243  0.000317  \n",
       "1          0.229858  0.058259  0.000803  \n",
       "2          0.123223  0.003580  0.000002  "
      ]
     },
     "execution_count": 21,
     "metadata": {},
     "output_type": "execute_result"
    }
   ],
   "source": [
    "iv, data = calc_iv(new_data, 'ChldNo', 'target')\n",
    "ivtable.loc[ivtable['variable'] == 'ChldNo', 'IV'] = iv\n",
    "data.head()"
   ]
  },
  {
   "cell_type": "code",
   "execution_count": 22,
   "metadata": {},
   "outputs": [],
   "source": [
    "new_data = convert_dummy(new_data, 'ChldNo')"
   ]
  },
  {
   "cell_type": "markdown",
   "metadata": {},
   "source": [
    "<b> Annual Income"
   ]
  },
  {
   "cell_type": "code",
   "execution_count": 23,
   "metadata": {},
   "outputs": [
    {
     "name": "stdout",
     "output_type": "stream",
     "text": [
      "(2.544, 18.18]      14663\n",
      "(18.18, 33.66]       8464\n",
      "(33.66, 49.14]       1637\n",
      "(49.14, 64.62]        175\n",
      "(64.62, 80.1]         124\n",
      "(80.1, 95.58]          50\n",
      "(95.58, 111.06]         4\n",
      "(111.06, 126.54]        3\n",
      "(126.54, 142.02]        6\n",
      "(142.02, 157.5]         8\n",
      "Name: inc, dtype: int64\n"
     ]
    },
    {
     "data": {
      "text/plain": [
       "<AxesSubplot:ylabel='Frequency'>"
      ]
     },
     "execution_count": 23,
     "metadata": {},
     "output_type": "execute_result"
    },
    {
     "data": {
      "image/png": "[encoded data removed]",
      "text/plain": [
       "<Figure size 432x288 with 1 Axes>"
      ]
     },
     "metadata": {
      "needs_background": "light"
     },
     "output_type": "display_data"
    }
   ],
   "source": [
    "new_data['inc'] = new_data['inc'].astype(object)\n",
    "new_data['inc'] = new_data['inc'] / 10000\n",
    "print(new_data['inc'].value_counts(bins = 10, sort = False))\n",
    "new_data['inc'].plot(kind = 'hist', bins = 50, density = False)"
   ]
  },
  {
   "cell_type": "code",
   "execution_count": 24,
   "metadata": {},
   "outputs": [
    {
     "name": "stdout",
     "output_type": "stream",
     "text": [
      "\n",
      "This Variable IV is: 0.0024219962221596752\n",
      "low       8996\n",
      "high      8244\n",
      "medium    7894\n",
      "Name: gp_inc, dtype: int64\n"
     ]
    },
    {
     "data": {
      "text/html": [
       "<div>\n",
       "<style scoped>\n",
       "    .dataframe tbody tr th:only-of-type {\n",
       "        vertical-align: middle;\n",
       "    }\n",
       "\n",
       "    .dataframe tbody tr th {\n",
       "        vertical-align: top;\n",
       "    }\n",
       "\n",
       "    .dataframe thead th {\n",
       "        text-align: right;\n",
       "    }\n",
       "</style>\n",
       "<table border=\"1\" class=\"dataframe\">\n",
       "  <thead>\n",
       "    <tr style=\"text-align: right;\">\n",
       "      <th></th>\n",
       "      <th>Variable</th>\n",
       "      <th>Value</th>\n",
       "      <th>All</th>\n",
       "      <th>Good</th>\n",
       "      <th>Bad</th>\n",
       "      <th>Share</th>\n",
       "      <th>Bad Rate</th>\n",
       "      <th>Distribution Good</th>\n",
       "      <th>Distribution Bad</th>\n",
       "      <th>WoE</th>\n",
       "      <th>IV</th>\n",
       "    </tr>\n",
       "  </thead>\n",
       "  <tbody>\n",
       "    <tr>\n",
       "      <th>0</th>\n",
       "      <td>gp_inc</td>\n",
       "      <td>high</td>\n",
       "      <td>8244</td>\n",
       "      <td>8096</td>\n",
       "      <td>148</td>\n",
       "      <td>0.328002</td>\n",
       "      <td>0.017952</td>\n",
       "      <td>0.327614</td>\n",
       "      <td>0.350711</td>\n",
       "      <td>-0.068126</td>\n",
       "      <td>0.001573</td>\n",
       "    </tr>\n",
       "    <tr>\n",
       "      <th>1</th>\n",
       "      <td>gp_inc</td>\n",
       "      <td>low</td>\n",
       "      <td>8996</td>\n",
       "      <td>8849</td>\n",
       "      <td>147</td>\n",
       "      <td>0.357922</td>\n",
       "      <td>0.016341</td>\n",
       "      <td>0.358085</td>\n",
       "      <td>0.348341</td>\n",
       "      <td>0.027588</td>\n",
       "      <td>0.000269</td>\n",
       "    </tr>\n",
       "    <tr>\n",
       "      <th>2</th>\n",
       "      <td>gp_inc</td>\n",
       "      <td>medium</td>\n",
       "      <td>7894</td>\n",
       "      <td>7767</td>\n",
       "      <td>127</td>\n",
       "      <td>0.314077</td>\n",
       "      <td>0.016088</td>\n",
       "      <td>0.314301</td>\n",
       "      <td>0.300948</td>\n",
       "      <td>0.043413</td>\n",
       "      <td>0.000580</td>\n",
       "    </tr>\n",
       "  </tbody>\n",
       "</table>\n",
       "</div>"
      ],
      "text/plain": [
       "  Variable   Value   All  Good  Bad     Share  Bad Rate  Distribution Good  \\\n",
       "0   gp_inc    high  8244  8096  148  0.328002  0.017952           0.327614   \n",
       "1   gp_inc     low  8996  8849  147  0.357922  0.016341           0.358085   \n",
       "2   gp_inc  medium  7894  7767  127  0.314077  0.016088           0.314301   \n",
       "\n",
       "   Distribution Bad       WoE        IV  \n",
       "0          0.350711 -0.068126  0.001573  \n",
       "1          0.348341  0.027588  0.000269  \n",
       "2          0.300948  0.043413  0.000580  "
      ]
     },
     "execution_count": 24,
     "metadata": {},
     "output_type": "execute_result"
    }
   ],
   "source": [
    "new_data = get_category(new_data, 'inc', 3, ['low', 'medium', 'high'], qcut = True)\n",
    "iv , data = calc_iv(new_data, 'gp_inc', 'target')\n",
    "ivtable.loc[ivtable['variable'] == 'inc', 'IV'] = iv\n",
    "data.head()"
   ]
  },
  {
   "cell_type": "code",
   "execution_count": 25,
   "metadata": {},
   "outputs": [],
   "source": [
    "new_data = convert_dummy(new_data, 'gp_inc')"
   ]
  },
  {
   "cell_type": "markdown",
   "metadata": {},
   "source": [
    "<b> Age"
   ]
  },
  {
   "cell_type": "code",
   "execution_count": 26,
   "metadata": {},
   "outputs": [
    {
     "name": "stdout",
     "output_type": "stream",
     "text": [
      "(19.951999999999998, 24.7]    0.025066\n",
      "(24.7, 29.4]                  0.134280\n",
      "(29.4, 34.1]                  0.169770\n",
      "(34.1, 38.8]                  0.140805\n",
      "(38.8, 43.5]                  0.173072\n",
      "(43.5, 48.2]                  0.141880\n",
      "(48.2, 52.9]                  0.099069\n",
      "(52.9, 57.6]                  0.076550\n",
      "(57.6, 62.3]                  0.032585\n",
      "(62.3, 67.0]                  0.006923\n",
      "Name: Age, dtype: float64\n"
     ]
    },
    {
     "data": {
      "text/plain": [
       "<AxesSubplot:ylabel='Frequency'>"
      ]
     },
     "execution_count": 26,
     "metadata": {},
     "output_type": "execute_result"
    },
    {
     "data": {
      "image/png": "[encoded data removed]",
      "text/plain": [
       "<Figure size 432x288 with 1 Axes>"
      ]
     },
     "metadata": {
      "needs_background": "light"
     },
     "output_type": "display_data"
    }
   ],
   "source": [
    "new_data['Age'] = -(new_data['DAYS_BIRTH']) // 365 # // : 나눗셈 후 소수점 버리고 정수 부분만 취함\n",
    "print(new_data['Age'].value_counts(bins = 10, normalize = True, sort = False))\n",
    "new_data['Age'].plot(kind = 'hist', bins = 20, density = True)"
   ]
  },
  {
   "cell_type": "code",
   "execution_count": 27,
   "metadata": {},
   "outputs": [
    {
     "name": "stdout",
     "output_type": "stream",
     "text": [
      "\n",
      "This Variable IV is: 0.06593513858884348\n",
      "medium     7916\n",
      "low        7806\n",
      "high       4414\n",
      "lowest     4005\n",
      "highest     993\n",
      "Name: gp_Age, dtype: int64\n"
     ]
    },
    {
     "data": {
      "text/html": [
       "<div>\n",
       "<style scoped>\n",
       "    .dataframe tbody tr th:only-of-type {\n",
       "        vertical-align: middle;\n",
       "    }\n",
       "\n",
       "    .dataframe tbody tr th {\n",
       "        vertical-align: top;\n",
       "    }\n",
       "\n",
       "    .dataframe thead th {\n",
       "        text-align: right;\n",
       "    }\n",
       "</style>\n",
       "<table border=\"1\" class=\"dataframe\">\n",
       "  <thead>\n",
       "    <tr style=\"text-align: right;\">\n",
       "      <th></th>\n",
       "      <th>Variable</th>\n",
       "      <th>Value</th>\n",
       "      <th>All</th>\n",
       "      <th>Good</th>\n",
       "      <th>Bad</th>\n",
       "      <th>Share</th>\n",
       "      <th>Bad Rate</th>\n",
       "      <th>Distribution Good</th>\n",
       "      <th>Distribution Bad</th>\n",
       "      <th>WoE</th>\n",
       "      <th>IV</th>\n",
       "    </tr>\n",
       "  </thead>\n",
       "  <tbody>\n",
       "    <tr>\n",
       "      <th>0</th>\n",
       "      <td>gp_Age</td>\n",
       "      <td>high</td>\n",
       "      <td>4414</td>\n",
       "      <td>4323</td>\n",
       "      <td>91</td>\n",
       "      <td>0.175619</td>\n",
       "      <td>0.020616</td>\n",
       "      <td>0.174935</td>\n",
       "      <td>0.215640</td>\n",
       "      <td>-0.209194</td>\n",
       "      <td>0.008515</td>\n",
       "    </tr>\n",
       "    <tr>\n",
       "      <th>1</th>\n",
       "      <td>gp_Age</td>\n",
       "      <td>highest</td>\n",
       "      <td>993</td>\n",
       "      <td>989</td>\n",
       "      <td>4</td>\n",
       "      <td>0.039508</td>\n",
       "      <td>0.004028</td>\n",
       "      <td>0.040021</td>\n",
       "      <td>0.009479</td>\n",
       "      <td>1.440361</td>\n",
       "      <td>0.043992</td>\n",
       "    </tr>\n",
       "    <tr>\n",
       "      <th>2</th>\n",
       "      <td>gp_Age</td>\n",
       "      <td>low</td>\n",
       "      <td>7806</td>\n",
       "      <td>7686</td>\n",
       "      <td>120</td>\n",
       "      <td>0.310575</td>\n",
       "      <td>0.015373</td>\n",
       "      <td>0.311023</td>\n",
       "      <td>0.284360</td>\n",
       "      <td>0.089625</td>\n",
       "      <td>0.002390</td>\n",
       "    </tr>\n",
       "    <tr>\n",
       "      <th>3</th>\n",
       "      <td>gp_Age</td>\n",
       "      <td>lowest</td>\n",
       "      <td>4005</td>\n",
       "      <td>3921</td>\n",
       "      <td>84</td>\n",
       "      <td>0.159346</td>\n",
       "      <td>0.020974</td>\n",
       "      <td>0.158668</td>\n",
       "      <td>0.199052</td>\n",
       "      <td>-0.226754</td>\n",
       "      <td>0.009157</td>\n",
       "    </tr>\n",
       "    <tr>\n",
       "      <th>4</th>\n",
       "      <td>gp_Age</td>\n",
       "      <td>medium</td>\n",
       "      <td>7916</td>\n",
       "      <td>7793</td>\n",
       "      <td>123</td>\n",
       "      <td>0.314952</td>\n",
       "      <td>0.015538</td>\n",
       "      <td>0.315353</td>\n",
       "      <td>0.291469</td>\n",
       "      <td>0.078758</td>\n",
       "      <td>0.001881</td>\n",
       "    </tr>\n",
       "  </tbody>\n",
       "</table>\n",
       "</div>"
      ],
      "text/plain": [
       "  Variable    Value   All  Good  Bad     Share  Bad Rate  Distribution Good  \\\n",
       "0   gp_Age     high  4414  4323   91  0.175619  0.020616           0.174935   \n",
       "1   gp_Age  highest   993   989    4  0.039508  0.004028           0.040021   \n",
       "2   gp_Age      low  7806  7686  120  0.310575  0.015373           0.311023   \n",
       "3   gp_Age   lowest  4005  3921   84  0.159346  0.020974           0.158668   \n",
       "4   gp_Age   medium  7916  7793  123  0.314952  0.015538           0.315353   \n",
       "\n",
       "   Distribution Bad       WoE        IV  \n",
       "0          0.215640 -0.209194  0.008515  \n",
       "1          0.009479  1.440361  0.043992  \n",
       "2          0.284360  0.089625  0.002390  \n",
       "3          0.199052 -0.226754  0.009157  \n",
       "4          0.291469  0.078758  0.001881  "
      ]
     },
     "execution_count": 27,
     "metadata": {},
     "output_type": "execute_result"
    }
   ],
   "source": [
    "new_data = get_category(new_data, 'Age', 5, ['lowest', 'low', 'medium', 'high', 'highest'])\n",
    "iv, data = calc_iv(new_data, 'gp_Age', 'target')\n",
    "ivtable.loc[ivtable['variable'] == 'DAYS_BIRTH', 'IV'] = iv\n",
    "data.head()"
   ]
  },
  {
   "cell_type": "code",
   "execution_count": 28,
   "metadata": {},
   "outputs": [],
   "source": [
    "new_data = convert_dummy(new_data, 'gp_Age')"
   ]
  },
  {
   "cell_type": "markdown",
   "metadata": {},
   "source": [
    "<b> Working Years"
   ]
  },
  {
   "cell_type": "code",
   "execution_count": 29,
   "metadata": {},
   "outputs": [
    {
     "data": {
      "text/plain": [
       "<AxesSubplot:ylabel='Frequency'>"
      ]
     },
     "execution_count": 29,
     "metadata": {},
     "output_type": "execute_result"
    },
    {
     "data": {
      "image/png": "[encoded data removed]",
      "text/plain": [
       "<Figure size 432x288 with 1 Axes>"
      ]
     },
     "metadata": {
      "needs_background": "light"
     },
     "output_type": "display_data"
    }
   ],
   "source": [
    "new_data['worktm'] = -(new_data['DAYS_EMPLOYED']) // 365\n",
    "new_data[new_data['worktm'] < 0] = np.nan\n",
    "# 결측치를 mean으로 채워줌\n",
    "new_data['worktm'].fillna(new_data['worktm'].mean(), inplace = True)\n",
    "\n",
    "new_data['worktm'].plot(kind = 'hist', bins = 20, density = True)"
   ]
  },
  {
   "cell_type": "code",
   "execution_count": 30,
   "metadata": {},
   "outputs": [
    {
     "name": "stdout",
     "output_type": "stream",
     "text": [
      "\n",
      "This Variable IV is: 0.04022152230816303\n",
      "lowest     18254\n",
      "low         4987\n",
      "medium      1378\n",
      "high         425\n",
      "highest       90\n",
      "Name: gp_worktm, dtype: int64\n"
     ]
    },
    {
     "data": {
      "text/html": [
       "<div>\n",
       "<style scoped>\n",
       "    .dataframe tbody tr th:only-of-type {\n",
       "        vertical-align: middle;\n",
       "    }\n",
       "\n",
       "    .dataframe tbody tr th {\n",
       "        vertical-align: top;\n",
       "    }\n",
       "\n",
       "    .dataframe thead th {\n",
       "        text-align: right;\n",
       "    }\n",
       "</style>\n",
       "<table border=\"1\" class=\"dataframe\">\n",
       "  <thead>\n",
       "    <tr style=\"text-align: right;\">\n",
       "      <th></th>\n",
       "      <th>Variable</th>\n",
       "      <th>Value</th>\n",
       "      <th>All</th>\n",
       "      <th>Good</th>\n",
       "      <th>Bad</th>\n",
       "      <th>Share</th>\n",
       "      <th>Bad Rate</th>\n",
       "      <th>Distribution Good</th>\n",
       "      <th>Distribution Bad</th>\n",
       "      <th>WoE</th>\n",
       "      <th>IV</th>\n",
       "    </tr>\n",
       "  </thead>\n",
       "  <tbody>\n",
       "    <tr>\n",
       "      <th>0</th>\n",
       "      <td>gp_worktm</td>\n",
       "      <td>high</td>\n",
       "      <td>425</td>\n",
       "      <td>423</td>\n",
       "      <td>2</td>\n",
       "      <td>0.016909</td>\n",
       "      <td>0.004706</td>\n",
       "      <td>0.017117</td>\n",
       "      <td>0.004739</td>\n",
       "      <td>1.284186</td>\n",
       "      <td>0.015895</td>\n",
       "    </tr>\n",
       "    <tr>\n",
       "      <th>1</th>\n",
       "      <td>gp_worktm</td>\n",
       "      <td>highest</td>\n",
       "      <td>90</td>\n",
       "      <td>90</td>\n",
       "      <td>0</td>\n",
       "      <td>0.003581</td>\n",
       "      <td>0.000000</td>\n",
       "      <td>0.003642</td>\n",
       "      <td>0.000000</td>\n",
       "      <td>0.000000</td>\n",
       "      <td>0.000000</td>\n",
       "    </tr>\n",
       "    <tr>\n",
       "      <th>2</th>\n",
       "      <td>gp_worktm</td>\n",
       "      <td>low</td>\n",
       "      <td>4987</td>\n",
       "      <td>4921</td>\n",
       "      <td>66</td>\n",
       "      <td>0.198416</td>\n",
       "      <td>0.013234</td>\n",
       "      <td>0.199134</td>\n",
       "      <td>0.156398</td>\n",
       "      <td>0.241573</td>\n",
       "      <td>0.010324</td>\n",
       "    </tr>\n",
       "    <tr>\n",
       "      <th>3</th>\n",
       "      <td>gp_worktm</td>\n",
       "      <td>lowest</td>\n",
       "      <td>18254</td>\n",
       "      <td>17916</td>\n",
       "      <td>338</td>\n",
       "      <td>0.726267</td>\n",
       "      <td>0.018516</td>\n",
       "      <td>0.724992</td>\n",
       "      <td>0.800948</td>\n",
       "      <td>-0.099635</td>\n",
       "      <td>0.007568</td>\n",
       "    </tr>\n",
       "    <tr>\n",
       "      <th>4</th>\n",
       "      <td>gp_worktm</td>\n",
       "      <td>medium</td>\n",
       "      <td>1378</td>\n",
       "      <td>1362</td>\n",
       "      <td>16</td>\n",
       "      <td>0.054826</td>\n",
       "      <td>0.011611</td>\n",
       "      <td>0.055115</td>\n",
       "      <td>0.037915</td>\n",
       "      <td>0.374082</td>\n",
       "      <td>0.006434</td>\n",
       "    </tr>\n",
       "  </tbody>\n",
       "</table>\n",
       "</div>"
      ],
      "text/plain": [
       "    Variable    Value    All   Good  Bad     Share  Bad Rate  \\\n",
       "0  gp_worktm     high    425    423    2  0.016909  0.004706   \n",
       "1  gp_worktm  highest     90     90    0  0.003581  0.000000   \n",
       "2  gp_worktm      low   4987   4921   66  0.198416  0.013234   \n",
       "3  gp_worktm   lowest  18254  17916  338  0.726267  0.018516   \n",
       "4  gp_worktm   medium   1378   1362   16  0.054826  0.011611   \n",
       "\n",
       "   Distribution Good  Distribution Bad       WoE        IV  \n",
       "0           0.017117          0.004739  1.284186  0.015895  \n",
       "1           0.003642          0.000000  0.000000  0.000000  \n",
       "2           0.199134          0.156398  0.241573  0.010324  \n",
       "3           0.724992          0.800948 -0.099635  0.007568  \n",
       "4           0.055115          0.037915  0.374082  0.006434  "
      ]
     },
     "execution_count": 30,
     "metadata": {},
     "output_type": "execute_result"
    }
   ],
   "source": [
    "new_data = get_category(new_data, 'worktm', 5, ['lowest', 'low', 'medium', 'high', 'highest'])\n",
    "iv, data =calc_iv(new_data, 'gp_worktm', 'target')\n",
    "ivtable.loc[ivtable['variable'] == 'DAYS_EMPLOYED','IV'] = iv\n",
    "data.head()"
   ]
  },
  {
   "cell_type": "code",
   "execution_count": 31,
   "metadata": {},
   "outputs": [],
   "source": [
    "new_data = convert_dummy(new_data, 'gp_worktm')"
   ]
  },
  {
   "cell_type": "markdown",
   "metadata": {},
   "source": [
    "<b> Family Size"
   ]
  },
  {
   "cell_type": "code",
   "execution_count": 32,
   "metadata": {},
   "outputs": [
    {
     "data": {
      "text/plain": [
       "2.0     12697\n",
       "1.0      4263\n",
       "3.0      5216\n",
       "4.0      2576\n",
       "6.0        51\n",
       "9.0         2\n",
       "5.0       307\n",
       "7.0        18\n",
       "20.0        1\n",
       "15.0        3\n",
       "Name: famsize, dtype: int64"
      ]
     },
     "execution_count": 32,
     "metadata": {},
     "output_type": "execute_result"
    }
   ],
   "source": [
    "new_data['famsize'].value_counts(sort = False)"
   ]
  },
  {
   "cell_type": "code",
   "execution_count": 33,
   "metadata": {},
   "outputs": [
    {
     "name": "stdout",
     "output_type": "stream",
     "text": [
      "\n",
      "This Variable IV is: 0.006156138510778323\n",
      "2        12697\n",
      "3more     8174\n",
      "1         4263\n",
      "Name: famsizegp, dtype: int64\n"
     ]
    },
    {
     "data": {
      "text/html": [
       "<div>\n",
       "<style scoped>\n",
       "    .dataframe tbody tr th:only-of-type {\n",
       "        vertical-align: middle;\n",
       "    }\n",
       "\n",
       "    .dataframe tbody tr th {\n",
       "        vertical-align: top;\n",
       "    }\n",
       "\n",
       "    .dataframe thead th {\n",
       "        text-align: right;\n",
       "    }\n",
       "</style>\n",
       "<table border=\"1\" class=\"dataframe\">\n",
       "  <thead>\n",
       "    <tr style=\"text-align: right;\">\n",
       "      <th></th>\n",
       "      <th>Variable</th>\n",
       "      <th>Value</th>\n",
       "      <th>All</th>\n",
       "      <th>Good</th>\n",
       "      <th>Bad</th>\n",
       "      <th>Share</th>\n",
       "      <th>Bad Rate</th>\n",
       "      <th>Distribution Good</th>\n",
       "      <th>Distribution Bad</th>\n",
       "      <th>WoE</th>\n",
       "      <th>IV</th>\n",
       "    </tr>\n",
       "  </thead>\n",
       "  <tbody>\n",
       "    <tr>\n",
       "      <th>0</th>\n",
       "      <td>famsizegp</td>\n",
       "      <td>1</td>\n",
       "      <td>4263</td>\n",
       "      <td>4179</td>\n",
       "      <td>84</td>\n",
       "      <td>0.169611</td>\n",
       "      <td>0.019704</td>\n",
       "      <td>0.169108</td>\n",
       "      <td>0.199052</td>\n",
       "      <td>-0.163028</td>\n",
       "      <td>0.004882</td>\n",
       "    </tr>\n",
       "    <tr>\n",
       "      <th>1</th>\n",
       "      <td>famsizegp</td>\n",
       "      <td>2</td>\n",
       "      <td>12697</td>\n",
       "      <td>12489</td>\n",
       "      <td>208</td>\n",
       "      <td>0.505172</td>\n",
       "      <td>0.016382</td>\n",
       "      <td>0.505382</td>\n",
       "      <td>0.492891</td>\n",
       "      <td>0.025027</td>\n",
       "      <td>0.000313</td>\n",
       "    </tr>\n",
       "    <tr>\n",
       "      <th>2</th>\n",
       "      <td>famsizegp</td>\n",
       "      <td>3more</td>\n",
       "      <td>8174</td>\n",
       "      <td>8044</td>\n",
       "      <td>130</td>\n",
       "      <td>0.325217</td>\n",
       "      <td>0.015904</td>\n",
       "      <td>0.325510</td>\n",
       "      <td>0.308057</td>\n",
       "      <td>0.055108</td>\n",
       "      <td>0.000962</td>\n",
       "    </tr>\n",
       "  </tbody>\n",
       "</table>\n",
       "</div>"
      ],
      "text/plain": [
       "    Variable  Value    All   Good  Bad     Share  Bad Rate  Distribution Good  \\\n",
       "0  famsizegp      1   4263   4179   84  0.169611  0.019704           0.169108   \n",
       "1  famsizegp      2  12697  12489  208  0.505172  0.016382           0.505382   \n",
       "2  famsizegp  3more   8174   8044  130  0.325217  0.015904           0.325510   \n",
       "\n",
       "   Distribution Bad       WoE        IV  \n",
       "0          0.199052 -0.163028  0.004882  \n",
       "1          0.492891  0.025027  0.000313  \n",
       "2          0.308057  0.055108  0.000962  "
      ]
     },
     "execution_count": 33,
     "metadata": {},
     "output_type": "execute_result"
    }
   ],
   "source": [
    "new_data['famsize'] = new_data['famsize'].astype(int)\n",
    "new_data['famsizegp'] = new_data['famsize']\n",
    "new_data['famsizegp'] = new_data['famsizegp'].astype(object)\n",
    "new_data.loc[new_data['famsizegp'] >= 3, 'famsizegp'] = '3more'\n",
    "iv, data = calc_iv(new_data, 'famsizegp', 'target')\n",
    "ivtable.loc[ivtable['variable'] == 'famsize', 'IV'] = iv\n",
    "data.head()"
   ]
  },
  {
   "cell_type": "code",
   "execution_count": 34,
   "metadata": {},
   "outputs": [],
   "source": [
    "new_data = convert_dummy(new_data, 'famsizegp')"
   ]
  },
  {
   "cell_type": "markdown",
   "metadata": {},
   "source": [
    "### Categorical Features"
   ]
  },
  {
   "cell_type": "markdown",
   "metadata": {},
   "source": [
    "<b> income type"
   ]
  },
  {
   "cell_type": "code",
   "execution_count": 35,
   "metadata": {},
   "outputs": [
    {
     "name": "stdout",
     "output_type": "stream",
     "text": [
      "Student                    10\n",
      "Pensioner                  13\n",
      "State servant            2437\n",
      "Commercial associate     7052\n",
      "Working                 15622\n",
      "Name: inctp, dtype: int64\n",
      "\n",
      " Student                 0.000398\n",
      "Pensioner               0.000517\n",
      "State servant           0.096960\n",
      "Commercial associate    0.280576\n",
      "Working                 0.621549\n",
      "Name: inctp, dtype: float64\n",
      "\n",
      "This Variable IV is: 5.159303327851404e-05\n",
      "Working                 15622\n",
      "Commercial associate     7052\n",
      "State servant            2460\n",
      "Name: inctp, dtype: int64\n"
     ]
    },
    {
     "data": {
      "text/html": [
       "<div>\n",
       "<style scoped>\n",
       "    .dataframe tbody tr th:only-of-type {\n",
       "        vertical-align: middle;\n",
       "    }\n",
       "\n",
       "    .dataframe tbody tr th {\n",
       "        vertical-align: top;\n",
       "    }\n",
       "\n",
       "    .dataframe thead th {\n",
       "        text-align: right;\n",
       "    }\n",
       "</style>\n",
       "<table border=\"1\" class=\"dataframe\">\n",
       "  <thead>\n",
       "    <tr style=\"text-align: right;\">\n",
       "      <th></th>\n",
       "      <th>Variable</th>\n",
       "      <th>Value</th>\n",
       "      <th>All</th>\n",
       "      <th>Good</th>\n",
       "      <th>Bad</th>\n",
       "      <th>Share</th>\n",
       "      <th>Bad Rate</th>\n",
       "      <th>Distribution Good</th>\n",
       "      <th>Distribution Bad</th>\n",
       "      <th>WoE</th>\n",
       "      <th>IV</th>\n",
       "    </tr>\n",
       "  </thead>\n",
       "  <tbody>\n",
       "    <tr>\n",
       "      <th>0</th>\n",
       "      <td>inctp</td>\n",
       "      <td>Commercial associate</td>\n",
       "      <td>7052</td>\n",
       "      <td>6933</td>\n",
       "      <td>119</td>\n",
       "      <td>0.280576</td>\n",
       "      <td>0.016875</td>\n",
       "      <td>0.280552</td>\n",
       "      <td>0.281991</td>\n",
       "      <td>-0.005115</td>\n",
       "      <td>0.000007</td>\n",
       "    </tr>\n",
       "    <tr>\n",
       "      <th>1</th>\n",
       "      <td>inctp</td>\n",
       "      <td>State servant</td>\n",
       "      <td>2460</td>\n",
       "      <td>2418</td>\n",
       "      <td>42</td>\n",
       "      <td>0.097875</td>\n",
       "      <td>0.017073</td>\n",
       "      <td>0.097847</td>\n",
       "      <td>0.099526</td>\n",
       "      <td>-0.017013</td>\n",
       "      <td>0.000029</td>\n",
       "    </tr>\n",
       "    <tr>\n",
       "      <th>2</th>\n",
       "      <td>inctp</td>\n",
       "      <td>Working</td>\n",
       "      <td>15622</td>\n",
       "      <td>15361</td>\n",
       "      <td>261</td>\n",
       "      <td>0.621549</td>\n",
       "      <td>0.016707</td>\n",
       "      <td>0.621601</td>\n",
       "      <td>0.618483</td>\n",
       "      <td>0.005028</td>\n",
       "      <td>0.000016</td>\n",
       "    </tr>\n",
       "  </tbody>\n",
       "</table>\n",
       "</div>"
      ],
      "text/plain": [
       "  Variable                 Value    All   Good  Bad     Share  Bad Rate  \\\n",
       "0    inctp  Commercial associate   7052   6933  119  0.280576  0.016875   \n",
       "1    inctp         State servant   2460   2418   42  0.097875  0.017073   \n",
       "2    inctp               Working  15622  15361  261  0.621549  0.016707   \n",
       "\n",
       "   Distribution Good  Distribution Bad       WoE        IV  \n",
       "0           0.280552          0.281991 -0.005115  0.000007  \n",
       "1           0.097847          0.099526 -0.017013  0.000029  \n",
       "2           0.621601          0.618483  0.005028  0.000016  "
      ]
     },
     "execution_count": 35,
     "metadata": {},
     "output_type": "execute_result"
    }
   ],
   "source": [
    "print(new_data['inctp'].value_counts(sort = False))\n",
    "print('\\n', new_data['inctp'].value_counts(normalize= True, sort = False))\n",
    "\n",
    "# 연금 수령자와 학생은 state servant로 지정\n",
    "new_data.loc[new_data['inctp'] == 'Pensioner', 'inctp'] = 'State servant'\n",
    "new_data.loc[new_data['inctp'] == 'Student', 'inctp'] = 'State servant'\n",
    "iv, data = calc_iv(new_data, 'inctp', 'target')\n",
    "ivtable.loc[ivtable['variable'] == 'inctp', 'IV'] = iv\n",
    "data.head()"
   ]
  },
  {
   "cell_type": "code",
   "execution_count": 36,
   "metadata": {},
   "outputs": [],
   "source": [
    "new_data = convert_dummy(new_data, 'inctp')"
   ]
  },
  {
   "cell_type": "markdown",
   "metadata": {},
   "source": [
    "<b> Occupation type"
   ]
  },
  {
   "cell_type": "code",
   "execution_count": 37,
   "metadata": {},
   "outputs": [
    {
     "name": "stdout",
     "output_type": "stream",
     "text": [
      "Laborwk      10496\n",
      "officewk     10183\n",
      "hightecwk     4455\n",
      "Name: occyp, dtype: int64\n",
      "\n",
      "This Variable IV is: 0.004820472062853304\n",
      "Laborwk      10496\n",
      "officewk     10183\n",
      "hightecwk     4455\n",
      "Name: occyp, dtype: int64\n"
     ]
    },
    {
     "data": {
      "text/html": [
       "<div>\n",
       "<style scoped>\n",
       "    .dataframe tbody tr th:only-of-type {\n",
       "        vertical-align: middle;\n",
       "    }\n",
       "\n",
       "    .dataframe tbody tr th {\n",
       "        vertical-align: top;\n",
       "    }\n",
       "\n",
       "    .dataframe thead th {\n",
       "        text-align: right;\n",
       "    }\n",
       "</style>\n",
       "<table border=\"1\" class=\"dataframe\">\n",
       "  <thead>\n",
       "    <tr style=\"text-align: right;\">\n",
       "      <th></th>\n",
       "      <th>Variable</th>\n",
       "      <th>Value</th>\n",
       "      <th>All</th>\n",
       "      <th>Good</th>\n",
       "      <th>Bad</th>\n",
       "      <th>Share</th>\n",
       "      <th>Bad Rate</th>\n",
       "      <th>Distribution Good</th>\n",
       "      <th>Distribution Bad</th>\n",
       "      <th>WoE</th>\n",
       "      <th>IV</th>\n",
       "    </tr>\n",
       "  </thead>\n",
       "  <tbody>\n",
       "    <tr>\n",
       "      <th>0</th>\n",
       "      <td>occyp</td>\n",
       "      <td>Laborwk</td>\n",
       "      <td>10496</td>\n",
       "      <td>10311</td>\n",
       "      <td>185</td>\n",
       "      <td>0.417602</td>\n",
       "      <td>0.017626</td>\n",
       "      <td>0.417247</td>\n",
       "      <td>0.438389</td>\n",
       "      <td>-0.049428</td>\n",
       "      <td>0.001045</td>\n",
       "    </tr>\n",
       "    <tr>\n",
       "      <th>1</th>\n",
       "      <td>occyp</td>\n",
       "      <td>hightecwk</td>\n",
       "      <td>4455</td>\n",
       "      <td>4375</td>\n",
       "      <td>80</td>\n",
       "      <td>0.177250</td>\n",
       "      <td>0.017957</td>\n",
       "      <td>0.177039</td>\n",
       "      <td>0.189573</td>\n",
       "      <td>-0.068404</td>\n",
       "      <td>0.000857</td>\n",
       "    </tr>\n",
       "    <tr>\n",
       "      <th>2</th>\n",
       "      <td>occyp</td>\n",
       "      <td>officewk</td>\n",
       "      <td>10183</td>\n",
       "      <td>10026</td>\n",
       "      <td>157</td>\n",
       "      <td>0.405148</td>\n",
       "      <td>0.015418</td>\n",
       "      <td>0.405714</td>\n",
       "      <td>0.372038</td>\n",
       "      <td>0.086652</td>\n",
       "      <td>0.002918</td>\n",
       "    </tr>\n",
       "  </tbody>\n",
       "</table>\n",
       "</div>"
      ],
      "text/plain": [
       "  Variable      Value    All   Good  Bad     Share  Bad Rate  \\\n",
       "0    occyp    Laborwk  10496  10311  185  0.417602  0.017626   \n",
       "1    occyp  hightecwk   4455   4375   80  0.177250  0.017957   \n",
       "2    occyp   officewk  10183  10026  157  0.405148  0.015418   \n",
       "\n",
       "   Distribution Good  Distribution Bad       WoE        IV  \n",
       "0           0.417247          0.438389 -0.049428  0.001045  \n",
       "1           0.177039          0.189573 -0.068404  0.000857  \n",
       "2           0.405714          0.372038  0.086652  0.002918  "
      ]
     },
     "execution_count": 37,
     "metadata": {},
     "output_type": "execute_result"
    }
   ],
   "source": [
    "new_data.loc[(new_data['occyp']=='Cleaning staff') | (new_data['occyp']=='Cooking staff') | (new_data['occyp']=='Drivers') | (new_data['occyp']=='Laborers') | (new_data['occyp']=='Low-skill Laborers') | (new_data['occyp']=='Security staff') | (new_data['occyp']=='Waiters/barmen staff'),'occyp']='Laborwk'\n",
    "new_data.loc[(new_data['occyp']=='Accountants') | (new_data['occyp']=='Core staff') | (new_data['occyp']=='HR staff') | (new_data['occyp']=='Medicine staff') | (new_data['occyp']=='Private service staff') | (new_data['occyp']=='Realty agents') | (new_data['occyp']=='Sales staff') | (new_data['occyp']=='Secretaries'),'occyp']='officewk'\n",
    "new_data.loc[(new_data['occyp']=='Managers') | (new_data['occyp']=='High skill tech staff') | (new_data['occyp']=='IT staff'),'occyp']='hightecwk'\n",
    "\n",
    "print(new_data['occyp'].value_counts())\n",
    "iv, data = calc_iv(new_data, 'occyp', 'target')\n",
    "ivtable.loc[ivtable['variable'] == 'occyp', 'IV'] = iv\n",
    "data.head()"
   ]
  },
  {
   "cell_type": "code",
   "execution_count": 38,
   "metadata": {},
   "outputs": [],
   "source": [
    "new_data = convert_dummy(new_data, 'occyp')"
   ]
  },
  {
   "cell_type": "markdown",
   "metadata": {},
   "source": [
    "<b> House type"
   ]
  },
  {
   "cell_type": "code",
   "execution_count": 39,
   "metadata": {},
   "outputs": [
    {
     "name": "stdout",
     "output_type": "stream",
     "text": [
      "\n",
      "This Variable IV is: 0.0073275026880227365\n",
      "House / apartment      22102\n",
      "With parents            1430\n",
      "Municipal apartment      812\n",
      "Rented apartment         439\n",
      "Office apartment         199\n",
      "Co-op apartment          152\n",
      "Name: houtp, dtype: int64\n"
     ]
    },
    {
     "data": {
      "text/html": [
       "<div>\n",
       "<style scoped>\n",
       "    .dataframe tbody tr th:only-of-type {\n",
       "        vertical-align: middle;\n",
       "    }\n",
       "\n",
       "    .dataframe tbody tr th {\n",
       "        vertical-align: top;\n",
       "    }\n",
       "\n",
       "    .dataframe thead th {\n",
       "        text-align: right;\n",
       "    }\n",
       "</style>\n",
       "<table border=\"1\" class=\"dataframe\">\n",
       "  <thead>\n",
       "    <tr style=\"text-align: right;\">\n",
       "      <th></th>\n",
       "      <th>Variable</th>\n",
       "      <th>Value</th>\n",
       "      <th>All</th>\n",
       "      <th>Good</th>\n",
       "      <th>Bad</th>\n",
       "      <th>Share</th>\n",
       "      <th>Bad Rate</th>\n",
       "      <th>Distribution Good</th>\n",
       "      <th>Distribution Bad</th>\n",
       "      <th>WoE</th>\n",
       "      <th>IV</th>\n",
       "    </tr>\n",
       "  </thead>\n",
       "  <tbody>\n",
       "    <tr>\n",
       "      <th>0</th>\n",
       "      <td>houtp</td>\n",
       "      <td>Co-op apartment</td>\n",
       "      <td>152</td>\n",
       "      <td>149</td>\n",
       "      <td>3</td>\n",
       "      <td>0.006048</td>\n",
       "      <td>0.019737</td>\n",
       "      <td>0.006029</td>\n",
       "      <td>0.007109</td>\n",
       "      <td>-0.164705</td>\n",
       "      <td>0.000178</td>\n",
       "    </tr>\n",
       "    <tr>\n",
       "      <th>1</th>\n",
       "      <td>houtp</td>\n",
       "      <td>House / apartment</td>\n",
       "      <td>22102</td>\n",
       "      <td>21738</td>\n",
       "      <td>364</td>\n",
       "      <td>0.879367</td>\n",
       "      <td>0.016469</td>\n",
       "      <td>0.879654</td>\n",
       "      <td>0.862559</td>\n",
       "      <td>0.019624</td>\n",
       "      <td>0.000335</td>\n",
       "    </tr>\n",
       "    <tr>\n",
       "      <th>2</th>\n",
       "      <td>houtp</td>\n",
       "      <td>Municipal apartment</td>\n",
       "      <td>812</td>\n",
       "      <td>793</td>\n",
       "      <td>19</td>\n",
       "      <td>0.032307</td>\n",
       "      <td>0.023399</td>\n",
       "      <td>0.032090</td>\n",
       "      <td>0.045024</td>\n",
       "      <td>-0.338655</td>\n",
       "      <td>0.004380</td>\n",
       "    </tr>\n",
       "    <tr>\n",
       "      <th>3</th>\n",
       "      <td>houtp</td>\n",
       "      <td>Office apartment</td>\n",
       "      <td>199</td>\n",
       "      <td>194</td>\n",
       "      <td>5</td>\n",
       "      <td>0.007918</td>\n",
       "      <td>0.025126</td>\n",
       "      <td>0.007850</td>\n",
       "      <td>0.011848</td>\n",
       "      <td>-0.411619</td>\n",
       "      <td>0.001646</td>\n",
       "    </tr>\n",
       "    <tr>\n",
       "      <th>4</th>\n",
       "      <td>houtp</td>\n",
       "      <td>Rented apartment</td>\n",
       "      <td>439</td>\n",
       "      <td>433</td>\n",
       "      <td>6</td>\n",
       "      <td>0.017466</td>\n",
       "      <td>0.013667</td>\n",
       "      <td>0.017522</td>\n",
       "      <td>0.014218</td>\n",
       "      <td>0.208939</td>\n",
       "      <td>0.000690</td>\n",
       "    </tr>\n",
       "  </tbody>\n",
       "</table>\n",
       "</div>"
      ],
      "text/plain": [
       "  Variable                Value    All   Good  Bad     Share  Bad Rate  \\\n",
       "0    houtp      Co-op apartment    152    149    3  0.006048  0.019737   \n",
       "1    houtp    House / apartment  22102  21738  364  0.879367  0.016469   \n",
       "2    houtp  Municipal apartment    812    793   19  0.032307  0.023399   \n",
       "3    houtp     Office apartment    199    194    5  0.007918  0.025126   \n",
       "4    houtp     Rented apartment    439    433    6  0.017466  0.013667   \n",
       "\n",
       "   Distribution Good  Distribution Bad       WoE        IV  \n",
       "0           0.006029          0.007109 -0.164705  0.000178  \n",
       "1           0.879654          0.862559  0.019624  0.000335  \n",
       "2           0.032090          0.045024 -0.338655  0.004380  \n",
       "3           0.007850          0.011848 -0.411619  0.001646  \n",
       "4           0.017522          0.014218  0.208939  0.000690  "
      ]
     },
     "execution_count": 39,
     "metadata": {},
     "output_type": "execute_result"
    }
   ],
   "source": [
    "iv, data = calc_iv(new_data, 'houtp', 'target')\n",
    "ivtable.loc[ivtable['variable'] == 'houtp', 'IV'] = iv\n",
    "data.head()"
   ]
  },
  {
   "cell_type": "code",
   "execution_count": 40,
   "metadata": {},
   "outputs": [],
   "source": [
    "new_data = convert_dummy(new_data, 'houtp')"
   ]
  },
  {
   "cell_type": "markdown",
   "metadata": {},
   "source": [
    "<b> Education"
   ]
  },
  {
   "cell_type": "code",
   "execution_count": 41,
   "metadata": {},
   "outputs": [
    {
     "name": "stdout",
     "output_type": "stream",
     "text": [
      "\n",
      "This Variable IV is: 0.010361794017679489\n",
      "Secondary / secondary special    16808\n",
      "Higher education                  7146\n",
      "Incomplete higher                  993\n",
      "Lower secondary                    187\n",
      "Name: edutp, dtype: int64\n"
     ]
    },
    {
     "data": {
      "text/html": [
       "<div>\n",
       "<style scoped>\n",
       "    .dataframe tbody tr th:only-of-type {\n",
       "        vertical-align: middle;\n",
       "    }\n",
       "\n",
       "    .dataframe tbody tr th {\n",
       "        vertical-align: top;\n",
       "    }\n",
       "\n",
       "    .dataframe thead th {\n",
       "        text-align: right;\n",
       "    }\n",
       "</style>\n",
       "<table border=\"1\" class=\"dataframe\">\n",
       "  <thead>\n",
       "    <tr style=\"text-align: right;\">\n",
       "      <th></th>\n",
       "      <th>Variable</th>\n",
       "      <th>Value</th>\n",
       "      <th>All</th>\n",
       "      <th>Good</th>\n",
       "      <th>Bad</th>\n",
       "      <th>Share</th>\n",
       "      <th>Bad Rate</th>\n",
       "      <th>Distribution Good</th>\n",
       "      <th>Distribution Bad</th>\n",
       "      <th>WoE</th>\n",
       "      <th>IV</th>\n",
       "    </tr>\n",
       "  </thead>\n",
       "  <tbody>\n",
       "    <tr>\n",
       "      <th>0</th>\n",
       "      <td>edutp</td>\n",
       "      <td>Higher education</td>\n",
       "      <td>7146</td>\n",
       "      <td>7018</td>\n",
       "      <td>128</td>\n",
       "      <td>0.284316</td>\n",
       "      <td>0.017912</td>\n",
       "      <td>0.283992</td>\n",
       "      <td>0.303318</td>\n",
       "      <td>-0.065836</td>\n",
       "      <td>0.001272</td>\n",
       "    </tr>\n",
       "    <tr>\n",
       "      <th>1</th>\n",
       "      <td>edutp</td>\n",
       "      <td>Incomplete higher</td>\n",
       "      <td>993</td>\n",
       "      <td>972</td>\n",
       "      <td>21</td>\n",
       "      <td>0.039508</td>\n",
       "      <td>0.021148</td>\n",
       "      <td>0.039333</td>\n",
       "      <td>0.049763</td>\n",
       "      <td>-0.235206</td>\n",
       "      <td>0.002453</td>\n",
       "    </tr>\n",
       "    <tr>\n",
       "      <th>2</th>\n",
       "      <td>edutp</td>\n",
       "      <td>Lower secondary</td>\n",
       "      <td>187</td>\n",
       "      <td>181</td>\n",
       "      <td>6</td>\n",
       "      <td>0.007440</td>\n",
       "      <td>0.032086</td>\n",
       "      <td>0.007324</td>\n",
       "      <td>0.014218</td>\n",
       "      <td>-0.663301</td>\n",
       "      <td>0.004573</td>\n",
       "    </tr>\n",
       "    <tr>\n",
       "      <th>3</th>\n",
       "      <td>edutp</td>\n",
       "      <td>Secondary / secondary special</td>\n",
       "      <td>16808</td>\n",
       "      <td>16541</td>\n",
       "      <td>267</td>\n",
       "      <td>0.668736</td>\n",
       "      <td>0.015885</td>\n",
       "      <td>0.669351</td>\n",
       "      <td>0.632701</td>\n",
       "      <td>0.056310</td>\n",
       "      <td>0.002064</td>\n",
       "    </tr>\n",
       "  </tbody>\n",
       "</table>\n",
       "</div>"
      ],
      "text/plain": [
       "  Variable                          Value    All   Good  Bad     Share  \\\n",
       "0    edutp               Higher education   7146   7018  128  0.284316   \n",
       "1    edutp              Incomplete higher    993    972   21  0.039508   \n",
       "2    edutp                Lower secondary    187    181    6  0.007440   \n",
       "3    edutp  Secondary / secondary special  16808  16541  267  0.668736   \n",
       "\n",
       "   Bad Rate  Distribution Good  Distribution Bad       WoE        IV  \n",
       "0  0.017912           0.283992          0.303318 -0.065836  0.001272  \n",
       "1  0.021148           0.039333          0.049763 -0.235206  0.002453  \n",
       "2  0.032086           0.007324          0.014218 -0.663301  0.004573  \n",
       "3  0.015885           0.669351          0.632701  0.056310  0.002064  "
      ]
     },
     "execution_count": 41,
     "metadata": {},
     "output_type": "execute_result"
    }
   ],
   "source": [
    "new_data.loc[new_data['edutp'] == 'Academic degree', 'edutp'] = 'Higher education'\n",
    "iv, data = calc_iv(new_data, 'edutp', 'target')\n",
    "ivtable.loc[ivtable['variable'] == 'edutp', 'IV'] = iv\n",
    "data.head()"
   ]
  },
  {
   "cell_type": "code",
   "execution_count": 42,
   "metadata": {},
   "outputs": [],
   "source": [
    "new_data = convert_dummy(new_data, 'edutp')"
   ]
  },
  {
   "cell_type": "markdown",
   "metadata": {},
   "source": [
    "<b> Marriage Condition"
   ]
  },
  {
   "cell_type": "code",
   "execution_count": 43,
   "metadata": {},
   "outputs": [
    {
     "data": {
      "text/plain": [
       "Single / not married    0.137065\n",
       "Married                 0.696626\n",
       "Widow                   0.023076\n",
       "Civil marriage          0.084865\n",
       "Separated               0.058367\n",
       "Name: famtp, dtype: float64"
      ]
     },
     "execution_count": 43,
     "metadata": {},
     "output_type": "execute_result"
    }
   ],
   "source": [
    "new_data['famtp'].value_counts(normalize=True, sort = False)"
   ]
  },
  {
   "cell_type": "code",
   "execution_count": 44,
   "metadata": {},
   "outputs": [
    {
     "name": "stdout",
     "output_type": "stream",
     "text": [
      "\n",
      "This Variable IV is: 0.043137115423127946\n",
      "Married                 17509\n",
      "Single / not married     3445\n",
      "Civil marriage           2133\n",
      "Separated                1467\n",
      "Widow                     580\n",
      "Name: famtp, dtype: int64\n"
     ]
    },
    {
     "data": {
      "text/html": [
       "<div>\n",
       "<style scoped>\n",
       "    .dataframe tbody tr th:only-of-type {\n",
       "        vertical-align: middle;\n",
       "    }\n",
       "\n",
       "    .dataframe tbody tr th {\n",
       "        vertical-align: top;\n",
       "    }\n",
       "\n",
       "    .dataframe thead th {\n",
       "        text-align: right;\n",
       "    }\n",
       "</style>\n",
       "<table border=\"1\" class=\"dataframe\">\n",
       "  <thead>\n",
       "    <tr style=\"text-align: right;\">\n",
       "      <th></th>\n",
       "      <th>Variable</th>\n",
       "      <th>Value</th>\n",
       "      <th>All</th>\n",
       "      <th>Good</th>\n",
       "      <th>Bad</th>\n",
       "      <th>Share</th>\n",
       "      <th>Bad Rate</th>\n",
       "      <th>Distribution Good</th>\n",
       "      <th>Distribution Bad</th>\n",
       "      <th>WoE</th>\n",
       "      <th>IV</th>\n",
       "    </tr>\n",
       "  </thead>\n",
       "  <tbody>\n",
       "    <tr>\n",
       "      <th>0</th>\n",
       "      <td>edutp</td>\n",
       "      <td>Higher education</td>\n",
       "      <td>7146</td>\n",
       "      <td>7018</td>\n",
       "      <td>128</td>\n",
       "      <td>0.284316</td>\n",
       "      <td>0.017912</td>\n",
       "      <td>0.283992</td>\n",
       "      <td>0.303318</td>\n",
       "      <td>-0.065836</td>\n",
       "      <td>0.001272</td>\n",
       "    </tr>\n",
       "    <tr>\n",
       "      <th>1</th>\n",
       "      <td>edutp</td>\n",
       "      <td>Incomplete higher</td>\n",
       "      <td>993</td>\n",
       "      <td>972</td>\n",
       "      <td>21</td>\n",
       "      <td>0.039508</td>\n",
       "      <td>0.021148</td>\n",
       "      <td>0.039333</td>\n",
       "      <td>0.049763</td>\n",
       "      <td>-0.235206</td>\n",
       "      <td>0.002453</td>\n",
       "    </tr>\n",
       "    <tr>\n",
       "      <th>2</th>\n",
       "      <td>edutp</td>\n",
       "      <td>Lower secondary</td>\n",
       "      <td>187</td>\n",
       "      <td>181</td>\n",
       "      <td>6</td>\n",
       "      <td>0.007440</td>\n",
       "      <td>0.032086</td>\n",
       "      <td>0.007324</td>\n",
       "      <td>0.014218</td>\n",
       "      <td>-0.663301</td>\n",
       "      <td>0.004573</td>\n",
       "    </tr>\n",
       "    <tr>\n",
       "      <th>3</th>\n",
       "      <td>edutp</td>\n",
       "      <td>Secondary / secondary special</td>\n",
       "      <td>16808</td>\n",
       "      <td>16541</td>\n",
       "      <td>267</td>\n",
       "      <td>0.668736</td>\n",
       "      <td>0.015885</td>\n",
       "      <td>0.669351</td>\n",
       "      <td>0.632701</td>\n",
       "      <td>0.056310</td>\n",
       "      <td>0.002064</td>\n",
       "    </tr>\n",
       "  </tbody>\n",
       "</table>\n",
       "</div>"
      ],
      "text/plain": [
       "  Variable                          Value    All   Good  Bad     Share  \\\n",
       "0    edutp               Higher education   7146   7018  128  0.284316   \n",
       "1    edutp              Incomplete higher    993    972   21  0.039508   \n",
       "2    edutp                Lower secondary    187    181    6  0.007440   \n",
       "3    edutp  Secondary / secondary special  16808  16541  267  0.668736   \n",
       "\n",
       "   Bad Rate  Distribution Good  Distribution Bad       WoE        IV  \n",
       "0  0.017912           0.283992          0.303318 -0.065836  0.001272  \n",
       "1  0.021148           0.039333          0.049763 -0.235206  0.002453  \n",
       "2  0.032086           0.007324          0.014218 -0.663301  0.004573  \n",
       "3  0.015885           0.669351          0.632701  0.056310  0.002064  "
      ]
     },
     "execution_count": 44,
     "metadata": {},
     "output_type": "execute_result"
    }
   ],
   "source": [
    "iv, datat = calc_iv(new_data, 'famtp', 'target')\n",
    "ivtable.loc[ivtable['variable'] == 'famtp', 'IV'] = iv\n",
    "data.head()"
   ]
  },
  {
   "cell_type": "code",
   "execution_count": 45,
   "metadata": {},
   "outputs": [],
   "source": [
    "new_data = convert_dummy(new_data, 'famtp')"
   ]
  },
  {
   "cell_type": "markdown",
   "metadata": {},
   "source": [
    "<b> WoE : Weight of Evidence </b>\n",
    "\n",
    "Weight of Evidence는 베이지안 통계 기반 의 분석방법으로서 기본적으로 사전확률(Prior Probability)과 사후확률(Posterior Probability) 을 통해 결과가 도출된다.\n",
    "- log(% Non-Event / % Event)\n",
    "\n",
    "<b> IV : information Value </b>\n",
    "\n",
    " information value 분석이란 각 설명변수가 목표변수를 설명하는데 어떠한 pattern과 어느 정도의 power를 가지고 있는지를 알아보는데 주요하게 쓰이는 분석으로, information value의 값이 클수록 예측력이 높다는 것을 의미한다.\n",
    " \n",
    "IV = information value\n",
    "- (% Non-Event - % Event) / log(% Non-Event / % Event)"
   ]
  },
  {
   "cell_type": "code",
   "execution_count": 46,
   "metadata": {},
   "outputs": [
    {
     "data": {
      "text/html": [
       "<div>\n",
       "<style scoped>\n",
       "    .dataframe tbody tr th:only-of-type {\n",
       "        vertical-align: middle;\n",
       "    }\n",
       "\n",
       "    .dataframe tbody tr th {\n",
       "        vertical-align: top;\n",
       "    }\n",
       "\n",
       "    .dataframe thead th {\n",
       "        text-align: right;\n",
       "    }\n",
       "</style>\n",
       "<table border=\"1\" class=\"dataframe\">\n",
       "  <thead>\n",
       "    <tr style=\"text-align: right;\">\n",
       "      <th></th>\n",
       "      <th>Ability to predict</th>\n",
       "    </tr>\n",
       "  </thead>\n",
       "  <tbody>\n",
       "    <tr>\n",
       "      <th>&lt; 0.02</th>\n",
       "      <td>Almost no predictive power</td>\n",
       "    </tr>\n",
       "    <tr>\n",
       "      <th>0.02~0.1</th>\n",
       "      <td>weak predictive power</td>\n",
       "    </tr>\n",
       "    <tr>\n",
       "      <th>0.1~0.3</th>\n",
       "      <td>Moderate predictive power</td>\n",
       "    </tr>\n",
       "    <tr>\n",
       "      <th>0.3~0.5</th>\n",
       "      <td>Strong predictive power</td>\n",
       "    </tr>\n",
       "    <tr>\n",
       "      <th>&gt; 0.5</th>\n",
       "      <td>Predictive power is too strong, need to check ...</td>\n",
       "    </tr>\n",
       "  </tbody>\n",
       "</table>\n",
       "</div>"
      ],
      "text/plain": [
       "                                         Ability to predict\n",
       "< 0.02                           Almost no predictive power\n",
       "0.02~0.1                              weak predictive power\n",
       "0.1~0.3                           Moderate predictive power\n",
       "0.3~0.5                             Strong predictive power\n",
       "> 0.5     Predictive power is too strong, need to check ..."
      ]
     },
     "execution_count": 46,
     "metadata": {},
     "output_type": "execute_result"
    }
   ],
   "source": [
    "dictionary = {'< 0.02' : 'Almost no predictive power',\n",
    "        '0.02~0.1' : 'weak predictive power',\n",
    "        '0.1~0.3' : 'Moderate predictive power', \n",
    "        '0.3~0.5' : 'Strong predictive power', \n",
    "        '> 0.5' : 'Predictive power is too strong, need to check variables'}\n",
    "\n",
    "pd.DataFrame(dictionary.values(), index = dictionary.keys(), columns = ['Ability to predict'])"
   ]
  },
  {
   "cell_type": "code",
   "execution_count": 47,
   "metadata": {},
   "outputs": [
    {
     "data": {
      "text/html": [
       "<div>\n",
       "<style scoped>\n",
       "    .dataframe tbody tr th:only-of-type {\n",
       "        vertical-align: middle;\n",
       "    }\n",
       "\n",
       "    .dataframe tbody tr th {\n",
       "        vertical-align: top;\n",
       "    }\n",
       "\n",
       "    .dataframe thead th {\n",
       "        text-align: right;\n",
       "    }\n",
       "</style>\n",
       "<table border=\"1\" class=\"dataframe\">\n",
       "  <thead>\n",
       "    <tr style=\"text-align: right;\">\n",
       "      <th></th>\n",
       "      <th>variable</th>\n",
       "      <th>IV</th>\n",
       "    </tr>\n",
       "  </thead>\n",
       "  <tbody>\n",
       "    <tr>\n",
       "      <th>10</th>\n",
       "      <td>agegp</td>\n",
       "      <td>0.0659351</td>\n",
       "    </tr>\n",
       "    <tr>\n",
       "      <th>8</th>\n",
       "      <td>famtp</td>\n",
       "      <td>0.0431371</td>\n",
       "    </tr>\n",
       "    <tr>\n",
       "      <th>11</th>\n",
       "      <td>wroktmgp</td>\n",
       "      <td>0.0402215</td>\n",
       "    </tr>\n",
       "    <tr>\n",
       "      <th>3</th>\n",
       "      <td>Reality</td>\n",
       "      <td>0.0274407</td>\n",
       "    </tr>\n",
       "    <tr>\n",
       "      <th>1</th>\n",
       "      <td>Gender</td>\n",
       "      <td>0.0252035</td>\n",
       "    </tr>\n",
       "    <tr>\n",
       "      <th>7</th>\n",
       "      <td>edutp</td>\n",
       "      <td>0.0103618</td>\n",
       "    </tr>\n",
       "    <tr>\n",
       "      <th>9</th>\n",
       "      <td>houtp</td>\n",
       "      <td>0.0073275</td>\n",
       "    </tr>\n",
       "    <tr>\n",
       "      <th>17</th>\n",
       "      <td>famsize</td>\n",
       "      <td>0.00615614</td>\n",
       "    </tr>\n",
       "    <tr>\n",
       "      <th>16</th>\n",
       "      <td>occyp</td>\n",
       "      <td>0.00482047</td>\n",
       "    </tr>\n",
       "    <tr>\n",
       "      <th>5</th>\n",
       "      <td>incgp</td>\n",
       "      <td>0.002422</td>\n",
       "    </tr>\n",
       "    <tr>\n",
       "      <th>13</th>\n",
       "      <td>wkphone</td>\n",
       "      <td>0.00204243</td>\n",
       "    </tr>\n",
       "    <tr>\n",
       "      <th>4</th>\n",
       "      <td>ChldNo</td>\n",
       "      <td>0.00112145</td>\n",
       "    </tr>\n",
       "    <tr>\n",
       "      <th>14</th>\n",
       "      <td>phone</td>\n",
       "      <td>0.00054805</td>\n",
       "    </tr>\n",
       "    <tr>\n",
       "      <th>6</th>\n",
       "      <td>inctp</td>\n",
       "      <td>5.1593e-05</td>\n",
       "    </tr>\n",
       "    <tr>\n",
       "      <th>15</th>\n",
       "      <td>email</td>\n",
       "      <td>1.73436e-05</td>\n",
       "    </tr>\n",
       "    <tr>\n",
       "      <th>2</th>\n",
       "      <td>Car</td>\n",
       "      <td>4.54248e-06</td>\n",
       "    </tr>\n",
       "  </tbody>\n",
       "</table>\n",
       "</div>"
      ],
      "text/plain": [
       "    variable           IV\n",
       "10     agegp    0.0659351\n",
       "8      famtp    0.0431371\n",
       "11  wroktmgp    0.0402215\n",
       "3    Reality    0.0274407\n",
       "1     Gender    0.0252035\n",
       "7      edutp    0.0103618\n",
       "9      houtp    0.0073275\n",
       "17   famsize   0.00615614\n",
       "16     occyp   0.00482047\n",
       "5      incgp     0.002422\n",
       "13   wkphone   0.00204243\n",
       "4     ChldNo   0.00112145\n",
       "14     phone   0.00054805\n",
       "6      inctp   5.1593e-05\n",
       "15     email  1.73436e-05\n",
       "2        Car  4.54248e-06"
      ]
     },
     "execution_count": 47,
     "metadata": {},
     "output_type": "execute_result"
    }
   ],
   "source": [
    "ivtable = ivtable.sort_values(by = 'IV', ascending = False)\n",
    "ivtable.loc[ivtable['variable'] == 'DAYS_BIRTH', 'variable'] = 'agegp'\n",
    "ivtable.loc[ivtable['variable'] == 'DAYS_EMPLOYED', 'variable'] = 'wroktmgp'\n",
    "ivtable.loc[ivtable['variable'] == 'inc', 'variable'] = 'incgp'\n",
    "ivtable"
   ]
  },
  {
   "cell_type": "code",
   "execution_count": 48,
   "metadata": {},
   "outputs": [
    {
     "data": {
      "text/plain": [
       "Index(['ID', 'Gender', 'Car', 'Reality', 'inc', 'DAYS_BIRTH', 'DAYS_EMPLOYED',\n",
       "       'FLAG_MOBIL', 'wkphone', 'phone', 'email', 'famsize', 'begin_month',\n",
       "       'dep_value', 'target', 'ChldNo_1', 'ChldNo_2More', 'gp_inc_high',\n",
       "       'gp_inc_medium', 'Age', 'gp_Age_high', 'gp_Age_highest', 'gp_Age_low',\n",
       "       'gp_Age_lowest', 'worktm', 'gp_worktm_high', 'gp_worktm_highest',\n",
       "       'gp_worktm_low', 'gp_worktm_medium', 'famsizegp_1', 'famsizegp_3more',\n",
       "       'inctp_Commercial associate', 'inctp_State servant', 'occyp_hightecwk',\n",
       "       'occyp_officewk', 'houtp_Co-op apartment', 'houtp_Municipal apartment',\n",
       "       'houtp_Office apartment', 'houtp_Rented apartment',\n",
       "       'houtp_With parents', 'edutp_Higher education',\n",
       "       'edutp_Incomplete higher', 'edutp_Lower secondary',\n",
       "       'famtp_Civil marriage', 'famtp_Separated', 'famtp_Single / not married',\n",
       "       'famtp_Widow'],\n",
       "      dtype='object')"
      ]
     },
     "execution_count": 48,
     "metadata": {},
     "output_type": "execute_result"
    }
   ],
   "source": [
    "new_data.columns"
   ]
  },
  {
   "cell_type": "code",
   "execution_count": 49,
   "metadata": {},
   "outputs": [],
   "source": [
    "features = new_data[['Gender','Reality','ChldNo_1', 'ChldNo_2More','wkphone', \n",
    "                     'gp_Age_high', 'gp_Age_highest', 'gp_Age_low',\n",
    "                     'gp_Age_lowest','gp_worktm_high', 'gp_worktm_highest',\n",
    "                     'gp_worktm_low', 'gp_worktm_medium','occyp_hightecwk', \n",
    "                     'occyp_officewk','famsizegp_1', 'famsizegp_3more',\n",
    "                     'houtp_Co-op apartment', 'houtp_Municipal apartment',\n",
    "                     'houtp_Office apartment', 'houtp_Rented apartment',\n",
    "                     'houtp_With parents','edutp_Higher education',\n",
    "                     'edutp_Incomplete higher', 'edutp_Lower secondary','famtp_Civil marriage',\n",
    "                     'famtp_Separated','famtp_Single / not married','famtp_Widow']]"
   ]
  }
 ],
 "metadata": {
  "kernelspec": {
   "display_name": "Python 3",
   "language": "python",
   "name": "python3"
  },
  "language_info": {
   "codemirror_mode": {
    "name": "ipython",
    "version": 3
   },
   "file_extension": ".py",
   "mimetype": "text/x-python",
   "name": "python",
   "nbconvert_exporter": "python",
   "pygments_lexer": "ipython3",
   "version": "3.7.9"
  }
 },
 "nbformat": 4,
 "nbformat_minor": 4
}
